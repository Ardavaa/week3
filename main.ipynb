{
 "cells": [
  {
   "cell_type": "markdown",
   "metadata": {},
   "source": [
    "# Week 3\n",
    "## 1. Data AUC.csv"
   ]
  },
  {
   "cell_type": "code",
   "execution_count": 439,
   "metadata": {},
   "outputs": [],
   "source": [
    "import pandas as pd\n",
    "import numpy as np\n",
    "import matplotlib.pyplot as plt\n",
    "import seaborn as sns\n",
    "import re\n",
    "import warnings\n",
    "warnings.filterwarnings('ignore')\n",
    "\n",
    "from sklearn.preprocessing import MinMaxScaler\n",
    "\n",
    "from sklearn.ensemble import RandomForestClassifier\n",
    "from sklearn.linear_model import LogisticRegression\n",
    "from sklearn.metrics import roc_auc_score\n",
    "\n",
    "from sklearn.model_selection import train_test_split\n",
    "from sklearn.preprocessing import LabelEncoder\n",
    "from feature_engine.encoding import (\n",
    "    OneHotEncoder,\n",
    "    CountFrequencyEncoder,\n",
    "    MeanEncoder,\n",
    "    OrdinalEncoder,\n",
    "    WoEEncoder,\n",
    ")"
   ]
  },
  {
   "cell_type": "code",
   "execution_count": 363,
   "metadata": {},
   "outputs": [
    {
     "data": {
      "text/html": [
       "<div>\n",
       "<style scoped>\n",
       "    .dataframe tbody tr th:only-of-type {\n",
       "        vertical-align: middle;\n",
       "    }\n",
       "\n",
       "    .dataframe tbody tr th {\n",
       "        vertical-align: top;\n",
       "    }\n",
       "\n",
       "    .dataframe thead th {\n",
       "        text-align: right;\n",
       "    }\n",
       "</style>\n",
       "<table border=\"1\" class=\"dataframe\">\n",
       "  <thead>\n",
       "    <tr style=\"text-align: right;\">\n",
       "      <th></th>\n",
       "      <th>name</th>\n",
       "      <th>author</th>\n",
       "      <th>narrator</th>\n",
       "      <th>time</th>\n",
       "      <th>releasedate</th>\n",
       "      <th>language</th>\n",
       "      <th>stars</th>\n",
       "      <th>price</th>\n",
       "    </tr>\n",
       "  </thead>\n",
       "  <tbody>\n",
       "    <tr>\n",
       "      <th>0</th>\n",
       "      <td>Geronimo Stilton #11 &amp; #12</td>\n",
       "      <td>Writtenby:GeronimoStilton</td>\n",
       "      <td>Narratedby:BillLobely</td>\n",
       "      <td>2 hrs and 20 mins</td>\n",
       "      <td>04-08-08</td>\n",
       "      <td>English</td>\n",
       "      <td>5 out of 5 stars34 ratings</td>\n",
       "      <td>468.00</td>\n",
       "    </tr>\n",
       "    <tr>\n",
       "      <th>1</th>\n",
       "      <td>The Burning Maze</td>\n",
       "      <td>Writtenby:RickRiordan</td>\n",
       "      <td>Narratedby:RobbieDaymond</td>\n",
       "      <td>13 hrs and 8 mins</td>\n",
       "      <td>01-05-18</td>\n",
       "      <td>English</td>\n",
       "      <td>4.5 out of 5 stars41 ratings</td>\n",
       "      <td>820.00</td>\n",
       "    </tr>\n",
       "    <tr>\n",
       "      <th>2</th>\n",
       "      <td>The Deep End</td>\n",
       "      <td>Writtenby:JeffKinney</td>\n",
       "      <td>Narratedby:DanRussell</td>\n",
       "      <td>2 hrs and 3 mins</td>\n",
       "      <td>06-11-20</td>\n",
       "      <td>English</td>\n",
       "      <td>4.5 out of 5 stars38 ratings</td>\n",
       "      <td>410.00</td>\n",
       "    </tr>\n",
       "    <tr>\n",
       "      <th>3</th>\n",
       "      <td>Daughter of the Deep</td>\n",
       "      <td>Writtenby:RickRiordan</td>\n",
       "      <td>Narratedby:SoneelaNankani</td>\n",
       "      <td>11 hrs and 16 mins</td>\n",
       "      <td>05-10-21</td>\n",
       "      <td>English</td>\n",
       "      <td>4.5 out of 5 stars12 ratings</td>\n",
       "      <td>615.00</td>\n",
       "    </tr>\n",
       "    <tr>\n",
       "      <th>4</th>\n",
       "      <td>The Lightning Thief: Percy Jackson, Book 1</td>\n",
       "      <td>Writtenby:RickRiordan</td>\n",
       "      <td>Narratedby:JesseBernstein</td>\n",
       "      <td>10 hrs</td>\n",
       "      <td>13-01-10</td>\n",
       "      <td>English</td>\n",
       "      <td>4.5 out of 5 stars181 ratings</td>\n",
       "      <td>820.00</td>\n",
       "    </tr>\n",
       "    <tr>\n",
       "      <th>5</th>\n",
       "      <td>The Hunger Games: Special Edition</td>\n",
       "      <td>Writtenby:SuzanneCollins</td>\n",
       "      <td>Narratedby:TatianaMaslany</td>\n",
       "      <td>10 hrs and 35 mins</td>\n",
       "      <td>30-10-18</td>\n",
       "      <td>English</td>\n",
       "      <td>5 out of 5 stars72 ratings</td>\n",
       "      <td>656.00</td>\n",
       "    </tr>\n",
       "    <tr>\n",
       "      <th>6</th>\n",
       "      <td>Quest for the Diamond Sword</td>\n",
       "      <td>Writtenby:WinterMorgan</td>\n",
       "      <td>Narratedby:LukeDaniels</td>\n",
       "      <td>2 hrs and 23 mins</td>\n",
       "      <td>25-11-14</td>\n",
       "      <td>English</td>\n",
       "      <td>5 out of 5 stars11 ratings</td>\n",
       "      <td>233.00</td>\n",
       "    </tr>\n",
       "    <tr>\n",
       "      <th>7</th>\n",
       "      <td>The Dark Prophecy</td>\n",
       "      <td>Writtenby:RickRiordan</td>\n",
       "      <td>Narratedby:RobbieDaymond</td>\n",
       "      <td>12 hrs and 32 mins</td>\n",
       "      <td>02-05-17</td>\n",
       "      <td>English</td>\n",
       "      <td>5 out of 5 stars50 ratings</td>\n",
       "      <td>820.00</td>\n",
       "    </tr>\n",
       "    <tr>\n",
       "      <th>8</th>\n",
       "      <td>Merlin Mission Collection</td>\n",
       "      <td>Writtenby:MaryPopeOsborne</td>\n",
       "      <td>Narratedby:MaryPopeOsborne</td>\n",
       "      <td>10 hrs and 56 mins</td>\n",
       "      <td>02-05-17</td>\n",
       "      <td>English</td>\n",
       "      <td>5 out of 5 stars5 ratings</td>\n",
       "      <td>1,256.00</td>\n",
       "    </tr>\n",
       "    <tr>\n",
       "      <th>9</th>\n",
       "      <td>The Tyrant’s Tomb</td>\n",
       "      <td>Writtenby:RickRiordan</td>\n",
       "      <td>Narratedby:RobbieDaymond</td>\n",
       "      <td>13 hrs and 22 mins</td>\n",
       "      <td>24-09-19</td>\n",
       "      <td>English</td>\n",
       "      <td>5 out of 5 stars58 ratings</td>\n",
       "      <td>820.00</td>\n",
       "    </tr>\n",
       "    <tr>\n",
       "      <th>10</th>\n",
       "      <td>The Titan's Curse: Percy Jackson, Book 3</td>\n",
       "      <td>Writtenby:RickRiordan</td>\n",
       "      <td>Narratedby:JesseBernstein</td>\n",
       "      <td>8 hrs and 48 mins</td>\n",
       "      <td>14-01-10</td>\n",
       "      <td>English</td>\n",
       "      <td>4.5 out of 5 stars130 ratings</td>\n",
       "      <td>820.00</td>\n",
       "    </tr>\n",
       "    <tr>\n",
       "      <th>11</th>\n",
       "      <td>Magic Tree House Collection: Books 9-16</td>\n",
       "      <td>Writtenby:MaryPopeOsborne</td>\n",
       "      <td>Narratedby:MaryPopeOsborne</td>\n",
       "      <td>5 hrs and 23 mins</td>\n",
       "      <td>24-08-11</td>\n",
       "      <td>English</td>\n",
       "      <td>5 out of 5 stars6 ratings</td>\n",
       "      <td>1,206.00</td>\n",
       "    </tr>\n",
       "    <tr>\n",
       "      <th>12</th>\n",
       "      <td>Magic Tree House Collection: Books 1-8</td>\n",
       "      <td>Writtenby:MaryPopeOsborne</td>\n",
       "      <td>Narratedby:MaryPopeOsborne</td>\n",
       "      <td>6 hrs and 1 min</td>\n",
       "      <td>27-09-11</td>\n",
       "      <td>English</td>\n",
       "      <td>5 out of 5 stars7 ratings</td>\n",
       "      <td>1,206.00</td>\n",
       "    </tr>\n",
       "    <tr>\n",
       "      <th>13</th>\n",
       "      <td>Magnus Chase and the Ship of the Dead</td>\n",
       "      <td>Writtenby:RickRiordan</td>\n",
       "      <td>Narratedby:MichaelCrouch</td>\n",
       "      <td>12 hrs and 58 mins</td>\n",
       "      <td>03-10-17</td>\n",
       "      <td>English</td>\n",
       "      <td>5 out of 5 stars41 ratings</td>\n",
       "      <td>820.00</td>\n",
       "    </tr>\n",
       "    <tr>\n",
       "      <th>14</th>\n",
       "      <td>Northern Lights</td>\n",
       "      <td>Writtenby:PhilipPullman</td>\n",
       "      <td>Narratedby:PhilipPullman,fullcast,RuthWilson</td>\n",
       "      <td>11 hrs and 55 mins</td>\n",
       "      <td>24-06-21</td>\n",
       "      <td>English</td>\n",
       "      <td>4 out of 5 stars2 ratings</td>\n",
       "      <td>1,093.00</td>\n",
       "    </tr>\n",
       "  </tbody>\n",
       "</table>\n",
       "</div>"
      ],
      "text/plain": [
       "                                          name                     author  \\\n",
       "0                   Geronimo Stilton #11 & #12  Writtenby:GeronimoStilton   \n",
       "1                             The Burning Maze      Writtenby:RickRiordan   \n",
       "2                                 The Deep End       Writtenby:JeffKinney   \n",
       "3                         Daughter of the Deep      Writtenby:RickRiordan   \n",
       "4   The Lightning Thief: Percy Jackson, Book 1      Writtenby:RickRiordan   \n",
       "5            The Hunger Games: Special Edition   Writtenby:SuzanneCollins   \n",
       "6                  Quest for the Diamond Sword     Writtenby:WinterMorgan   \n",
       "7                            The Dark Prophecy      Writtenby:RickRiordan   \n",
       "8                    Merlin Mission Collection  Writtenby:MaryPopeOsborne   \n",
       "9                            The Tyrant’s Tomb      Writtenby:RickRiordan   \n",
       "10    The Titan's Curse: Percy Jackson, Book 3      Writtenby:RickRiordan   \n",
       "11     Magic Tree House Collection: Books 9-16  Writtenby:MaryPopeOsborne   \n",
       "12      Magic Tree House Collection: Books 1-8  Writtenby:MaryPopeOsborne   \n",
       "13       Magnus Chase and the Ship of the Dead      Writtenby:RickRiordan   \n",
       "14                             Northern Lights    Writtenby:PhilipPullman   \n",
       "\n",
       "                                        narrator                time  \\\n",
       "0                          Narratedby:BillLobely   2 hrs and 20 mins   \n",
       "1                       Narratedby:RobbieDaymond   13 hrs and 8 mins   \n",
       "2                          Narratedby:DanRussell    2 hrs and 3 mins   \n",
       "3                      Narratedby:SoneelaNankani  11 hrs and 16 mins   \n",
       "4                      Narratedby:JesseBernstein              10 hrs   \n",
       "5                      Narratedby:TatianaMaslany  10 hrs and 35 mins   \n",
       "6                         Narratedby:LukeDaniels   2 hrs and 23 mins   \n",
       "7                       Narratedby:RobbieDaymond  12 hrs and 32 mins   \n",
       "8                     Narratedby:MaryPopeOsborne  10 hrs and 56 mins   \n",
       "9                       Narratedby:RobbieDaymond  13 hrs and 22 mins   \n",
       "10                     Narratedby:JesseBernstein   8 hrs and 48 mins   \n",
       "11                    Narratedby:MaryPopeOsborne   5 hrs and 23 mins   \n",
       "12                    Narratedby:MaryPopeOsborne     6 hrs and 1 min   \n",
       "13                      Narratedby:MichaelCrouch  12 hrs and 58 mins   \n",
       "14  Narratedby:PhilipPullman,fullcast,RuthWilson  11 hrs and 55 mins   \n",
       "\n",
       "   releasedate language                          stars     price  \n",
       "0     04-08-08  English     5 out of 5 stars34 ratings    468.00  \n",
       "1     01-05-18  English   4.5 out of 5 stars41 ratings    820.00  \n",
       "2     06-11-20  English   4.5 out of 5 stars38 ratings    410.00  \n",
       "3     05-10-21  English   4.5 out of 5 stars12 ratings    615.00  \n",
       "4     13-01-10  English  4.5 out of 5 stars181 ratings    820.00  \n",
       "5     30-10-18  English     5 out of 5 stars72 ratings    656.00  \n",
       "6     25-11-14  English     5 out of 5 stars11 ratings    233.00  \n",
       "7     02-05-17  English     5 out of 5 stars50 ratings    820.00  \n",
       "8     02-05-17  English      5 out of 5 stars5 ratings  1,256.00  \n",
       "9     24-09-19  English     5 out of 5 stars58 ratings    820.00  \n",
       "10    14-01-10  English  4.5 out of 5 stars130 ratings    820.00  \n",
       "11    24-08-11  English      5 out of 5 stars6 ratings  1,206.00  \n",
       "12    27-09-11  English      5 out of 5 stars7 ratings  1,206.00  \n",
       "13    03-10-17  English     5 out of 5 stars41 ratings    820.00  \n",
       "14    24-06-21  English      4 out of 5 stars2 ratings  1,093.00  "
      ]
     },
     "execution_count": 363,
     "metadata": {},
     "output_type": "execute_result"
    }
   ],
   "source": [
    "df_auc = pd.read_csv('dataset/AUC.csv')\n",
    "df_auc.head(15)"
   ]
  },
  {
   "cell_type": "code",
   "execution_count": 364,
   "metadata": {},
   "outputs": [
    {
     "name": "stdout",
     "output_type": "stream",
     "text": [
      "There are 0 missing values in the dataset.\n",
      "There are 0 duplicated values in the dataset.\n"
     ]
    }
   ],
   "source": [
    "def check_data(df):\n",
    "    print(f\"There are {df.isna().sum().sum()} missing values in the dataset.\")\n",
    "    print(f\"There are {df.duplicated().sum()} duplicated values in the dataset.\")\n",
    "\n",
    "check_data(df_auc)"
   ]
  },
  {
   "cell_type": "markdown",
   "metadata": {},
   "source": [
    "**TODO**:\n",
    "- Fixing & Removing unnecessary format:\n",
    "    - Removing:\n",
    "        - \"Writtenby:\" in `author` column.\n",
    "        - \"Narratedby:\" in `narrator` column.\n",
    "    - Fixing:\n",
    "        - Add space between two or more word blocks in `author` and `narrator` columns.\n",
    "- Turn `Time` column into a minute of duration instead\n",
    "- Convert some column with corrected data type:\n",
    "    - Turn `Time` column into a minute of duration instead.\n",
    "    - Turn `price` column into float instead.\n",
    "- Turn `release-date` into a pandas datetime format.\n",
    "- Fix `stars` column by:\n",
    "    - Adding a new column called `rating` containing how many ratings are there.\n",
    "    - Fix the stars rating format."
   ]
  },
  {
   "cell_type": "markdown",
   "metadata": {},
   "source": [
    "1. Fixing & Removing unnecessary format:\n"
   ]
  },
  {
   "cell_type": "code",
   "execution_count": 365,
   "metadata": {},
   "outputs": [
    {
     "data": {
      "text/html": [
       "<div>\n",
       "<style scoped>\n",
       "    .dataframe tbody tr th:only-of-type {\n",
       "        vertical-align: middle;\n",
       "    }\n",
       "\n",
       "    .dataframe tbody tr th {\n",
       "        vertical-align: top;\n",
       "    }\n",
       "\n",
       "    .dataframe thead th {\n",
       "        text-align: right;\n",
       "    }\n",
       "</style>\n",
       "<table border=\"1\" class=\"dataframe\">\n",
       "  <thead>\n",
       "    <tr style=\"text-align: right;\">\n",
       "      <th></th>\n",
       "      <th>name</th>\n",
       "      <th>author</th>\n",
       "      <th>narrator</th>\n",
       "      <th>time</th>\n",
       "      <th>releasedate</th>\n",
       "      <th>language</th>\n",
       "      <th>stars</th>\n",
       "      <th>price</th>\n",
       "    </tr>\n",
       "  </thead>\n",
       "  <tbody>\n",
       "    <tr>\n",
       "      <th>0</th>\n",
       "      <td>Geronimo Stilton #11 &amp; #12</td>\n",
       "      <td>GeronimoStilton</td>\n",
       "      <td>BillLobely</td>\n",
       "      <td>2 hrs and 20 mins</td>\n",
       "      <td>04-08-08</td>\n",
       "      <td>English</td>\n",
       "      <td>5 out of 5 stars34 ratings</td>\n",
       "      <td>468.00</td>\n",
       "    </tr>\n",
       "    <tr>\n",
       "      <th>1</th>\n",
       "      <td>The Burning Maze</td>\n",
       "      <td>RickRiordan</td>\n",
       "      <td>RobbieDaymond</td>\n",
       "      <td>13 hrs and 8 mins</td>\n",
       "      <td>01-05-18</td>\n",
       "      <td>English</td>\n",
       "      <td>4.5 out of 5 stars41 ratings</td>\n",
       "      <td>820.00</td>\n",
       "    </tr>\n",
       "    <tr>\n",
       "      <th>2</th>\n",
       "      <td>The Deep End</td>\n",
       "      <td>JeffKinney</td>\n",
       "      <td>DanRussell</td>\n",
       "      <td>2 hrs and 3 mins</td>\n",
       "      <td>06-11-20</td>\n",
       "      <td>English</td>\n",
       "      <td>4.5 out of 5 stars38 ratings</td>\n",
       "      <td>410.00</td>\n",
       "    </tr>\n",
       "    <tr>\n",
       "      <th>3</th>\n",
       "      <td>Daughter of the Deep</td>\n",
       "      <td>RickRiordan</td>\n",
       "      <td>SoneelaNankani</td>\n",
       "      <td>11 hrs and 16 mins</td>\n",
       "      <td>05-10-21</td>\n",
       "      <td>English</td>\n",
       "      <td>4.5 out of 5 stars12 ratings</td>\n",
       "      <td>615.00</td>\n",
       "    </tr>\n",
       "    <tr>\n",
       "      <th>4</th>\n",
       "      <td>The Lightning Thief: Percy Jackson, Book 1</td>\n",
       "      <td>RickRiordan</td>\n",
       "      <td>JesseBernstein</td>\n",
       "      <td>10 hrs</td>\n",
       "      <td>13-01-10</td>\n",
       "      <td>English</td>\n",
       "      <td>4.5 out of 5 stars181 ratings</td>\n",
       "      <td>820.00</td>\n",
       "    </tr>\n",
       "  </tbody>\n",
       "</table>\n",
       "</div>"
      ],
      "text/plain": [
       "                                         name           author  \\\n",
       "0                  Geronimo Stilton #11 & #12  GeronimoStilton   \n",
       "1                            The Burning Maze      RickRiordan   \n",
       "2                                The Deep End       JeffKinney   \n",
       "3                        Daughter of the Deep      RickRiordan   \n",
       "4  The Lightning Thief: Percy Jackson, Book 1      RickRiordan   \n",
       "\n",
       "         narrator                time releasedate language  \\\n",
       "0      BillLobely   2 hrs and 20 mins    04-08-08  English   \n",
       "1   RobbieDaymond   13 hrs and 8 mins    01-05-18  English   \n",
       "2      DanRussell    2 hrs and 3 mins    06-11-20  English   \n",
       "3  SoneelaNankani  11 hrs and 16 mins    05-10-21  English   \n",
       "4  JesseBernstein              10 hrs    13-01-10  English   \n",
       "\n",
       "                           stars   price  \n",
       "0     5 out of 5 stars34 ratings  468.00  \n",
       "1   4.5 out of 5 stars41 ratings  820.00  \n",
       "2   4.5 out of 5 stars38 ratings  410.00  \n",
       "3   4.5 out of 5 stars12 ratings  615.00  \n",
       "4  4.5 out of 5 stars181 ratings  820.00  "
      ]
     },
     "execution_count": 365,
     "metadata": {},
     "output_type": "execute_result"
    }
   ],
   "source": [
    "# Removing:\n",
    "# - \"Writtenby:\" in `author` column\n",
    "# - \"Narratedby:\" in `narrator` column\n",
    "\n",
    "df_auc['author'] = df_auc['author'].str.replace('Writtenby:', '', regex=False)\n",
    "df_auc['narrator'] = df_auc['narrator'].str.replace('Narratedby:', '', regex=False)\n",
    "\n",
    "df_auc.head()"
   ]
  },
  {
   "cell_type": "code",
   "execution_count": 366,
   "metadata": {},
   "outputs": [
    {
     "data": {
      "text/html": [
       "<div>\n",
       "<style scoped>\n",
       "    .dataframe tbody tr th:only-of-type {\n",
       "        vertical-align: middle;\n",
       "    }\n",
       "\n",
       "    .dataframe tbody tr th {\n",
       "        vertical-align: top;\n",
       "    }\n",
       "\n",
       "    .dataframe thead th {\n",
       "        text-align: right;\n",
       "    }\n",
       "</style>\n",
       "<table border=\"1\" class=\"dataframe\">\n",
       "  <thead>\n",
       "    <tr style=\"text-align: right;\">\n",
       "      <th></th>\n",
       "      <th>name</th>\n",
       "      <th>author</th>\n",
       "      <th>narrator</th>\n",
       "      <th>time</th>\n",
       "      <th>releasedate</th>\n",
       "      <th>language</th>\n",
       "      <th>stars</th>\n",
       "      <th>price</th>\n",
       "    </tr>\n",
       "  </thead>\n",
       "  <tbody>\n",
       "    <tr>\n",
       "      <th>0</th>\n",
       "      <td>Geronimo Stilton #11 &amp; #12</td>\n",
       "      <td>Geronimo Stilton</td>\n",
       "      <td>Bill Lobely</td>\n",
       "      <td>2 hrs and 20 mins</td>\n",
       "      <td>04-08-08</td>\n",
       "      <td>English</td>\n",
       "      <td>5 out of 5 stars34 ratings</td>\n",
       "      <td>468.00</td>\n",
       "    </tr>\n",
       "    <tr>\n",
       "      <th>1</th>\n",
       "      <td>The Burning Maze</td>\n",
       "      <td>Rick Riordan</td>\n",
       "      <td>Robbie Daymond</td>\n",
       "      <td>13 hrs and 8 mins</td>\n",
       "      <td>01-05-18</td>\n",
       "      <td>English</td>\n",
       "      <td>4.5 out of 5 stars41 ratings</td>\n",
       "      <td>820.00</td>\n",
       "    </tr>\n",
       "    <tr>\n",
       "      <th>2</th>\n",
       "      <td>The Deep End</td>\n",
       "      <td>Jeff Kinney</td>\n",
       "      <td>Dan Russell</td>\n",
       "      <td>2 hrs and 3 mins</td>\n",
       "      <td>06-11-20</td>\n",
       "      <td>English</td>\n",
       "      <td>4.5 out of 5 stars38 ratings</td>\n",
       "      <td>410.00</td>\n",
       "    </tr>\n",
       "    <tr>\n",
       "      <th>3</th>\n",
       "      <td>Daughter of the Deep</td>\n",
       "      <td>Rick Riordan</td>\n",
       "      <td>Soneela Nankani</td>\n",
       "      <td>11 hrs and 16 mins</td>\n",
       "      <td>05-10-21</td>\n",
       "      <td>English</td>\n",
       "      <td>4.5 out of 5 stars12 ratings</td>\n",
       "      <td>615.00</td>\n",
       "    </tr>\n",
       "    <tr>\n",
       "      <th>4</th>\n",
       "      <td>The Lightning Thief: Percy Jackson, Book 1</td>\n",
       "      <td>Rick Riordan</td>\n",
       "      <td>Jesse Bernstein</td>\n",
       "      <td>10 hrs</td>\n",
       "      <td>13-01-10</td>\n",
       "      <td>English</td>\n",
       "      <td>4.5 out of 5 stars181 ratings</td>\n",
       "      <td>820.00</td>\n",
       "    </tr>\n",
       "  </tbody>\n",
       "</table>\n",
       "</div>"
      ],
      "text/plain": [
       "                                         name            author  \\\n",
       "0                  Geronimo Stilton #11 & #12  Geronimo Stilton   \n",
       "1                            The Burning Maze      Rick Riordan   \n",
       "2                                The Deep End       Jeff Kinney   \n",
       "3                        Daughter of the Deep      Rick Riordan   \n",
       "4  The Lightning Thief: Percy Jackson, Book 1      Rick Riordan   \n",
       "\n",
       "          narrator                time releasedate language  \\\n",
       "0      Bill Lobely   2 hrs and 20 mins    04-08-08  English   \n",
       "1   Robbie Daymond   13 hrs and 8 mins    01-05-18  English   \n",
       "2      Dan Russell    2 hrs and 3 mins    06-11-20  English   \n",
       "3  Soneela Nankani  11 hrs and 16 mins    05-10-21  English   \n",
       "4  Jesse Bernstein              10 hrs    13-01-10  English   \n",
       "\n",
       "                           stars   price  \n",
       "0     5 out of 5 stars34 ratings  468.00  \n",
       "1   4.5 out of 5 stars41 ratings  820.00  \n",
       "2   4.5 out of 5 stars38 ratings  410.00  \n",
       "3   4.5 out of 5 stars12 ratings  615.00  \n",
       "4  4.5 out of 5 stars181 ratings  820.00  "
      ]
     },
     "execution_count": 366,
     "metadata": {},
     "output_type": "execute_result"
    }
   ],
   "source": [
    "# Fixing:\n",
    "# - Add space between two or more word blocks in `author` and `narrator` columns\n",
    "df_auc['author'] = df_auc['author'].str.replace(pat = r\"(\\w)([A-Z])\", repl = r\"\\1 \\2\", regex = True)\n",
    "df_auc['narrator'] = df_auc['narrator'].str.replace(pat = r\"(\\w)([A-Z])\", repl = r\"\\1 \\2\", regex = True)\n",
    "\n",
    "df_auc.head()"
   ]
  },
  {
   "cell_type": "code",
   "execution_count": 367,
   "metadata": {},
   "outputs": [
    {
     "data": {
      "text/html": [
       "<div>\n",
       "<style scoped>\n",
       "    .dataframe tbody tr th:only-of-type {\n",
       "        vertical-align: middle;\n",
       "    }\n",
       "\n",
       "    .dataframe tbody tr th {\n",
       "        vertical-align: top;\n",
       "    }\n",
       "\n",
       "    .dataframe thead th {\n",
       "        text-align: right;\n",
       "    }\n",
       "</style>\n",
       "<table border=\"1\" class=\"dataframe\">\n",
       "  <thead>\n",
       "    <tr style=\"text-align: right;\">\n",
       "      <th></th>\n",
       "      <th>name</th>\n",
       "      <th>author0</th>\n",
       "      <th>author1</th>\n",
       "      <th>author2</th>\n",
       "      <th>author3</th>\n",
       "      <th>narrator</th>\n",
       "      <th>time</th>\n",
       "      <th>releasedate</th>\n",
       "      <th>language</th>\n",
       "      <th>stars</th>\n",
       "      <th>price</th>\n",
       "    </tr>\n",
       "  </thead>\n",
       "  <tbody>\n",
       "    <tr>\n",
       "      <th>0</th>\n",
       "      <td>Geronimo Stilton #11 &amp; #12</td>\n",
       "      <td>Geronimo Stilton</td>\n",
       "      <td>No Author</td>\n",
       "      <td>No Author</td>\n",
       "      <td>No Author</td>\n",
       "      <td>Bill Lobely</td>\n",
       "      <td>2 hrs and 20 mins</td>\n",
       "      <td>04-08-08</td>\n",
       "      <td>English</td>\n",
       "      <td>5 out of 5 stars34 ratings</td>\n",
       "      <td>468.00</td>\n",
       "    </tr>\n",
       "    <tr>\n",
       "      <th>1</th>\n",
       "      <td>The Burning Maze</td>\n",
       "      <td>Rick Riordan</td>\n",
       "      <td>No Author</td>\n",
       "      <td>No Author</td>\n",
       "      <td>No Author</td>\n",
       "      <td>Robbie Daymond</td>\n",
       "      <td>13 hrs and 8 mins</td>\n",
       "      <td>01-05-18</td>\n",
       "      <td>English</td>\n",
       "      <td>4.5 out of 5 stars41 ratings</td>\n",
       "      <td>820.00</td>\n",
       "    </tr>\n",
       "    <tr>\n",
       "      <th>2</th>\n",
       "      <td>The Deep End</td>\n",
       "      <td>Jeff Kinney</td>\n",
       "      <td>No Author</td>\n",
       "      <td>No Author</td>\n",
       "      <td>No Author</td>\n",
       "      <td>Dan Russell</td>\n",
       "      <td>2 hrs and 3 mins</td>\n",
       "      <td>06-11-20</td>\n",
       "      <td>English</td>\n",
       "      <td>4.5 out of 5 stars38 ratings</td>\n",
       "      <td>410.00</td>\n",
       "    </tr>\n",
       "    <tr>\n",
       "      <th>3</th>\n",
       "      <td>Daughter of the Deep</td>\n",
       "      <td>Rick Riordan</td>\n",
       "      <td>No Author</td>\n",
       "      <td>No Author</td>\n",
       "      <td>No Author</td>\n",
       "      <td>Soneela Nankani</td>\n",
       "      <td>11 hrs and 16 mins</td>\n",
       "      <td>05-10-21</td>\n",
       "      <td>English</td>\n",
       "      <td>4.5 out of 5 stars12 ratings</td>\n",
       "      <td>615.00</td>\n",
       "    </tr>\n",
       "    <tr>\n",
       "      <th>4</th>\n",
       "      <td>The Lightning Thief: Percy Jackson, Book 1</td>\n",
       "      <td>Rick Riordan</td>\n",
       "      <td>No Author</td>\n",
       "      <td>No Author</td>\n",
       "      <td>No Author</td>\n",
       "      <td>Jesse Bernstein</td>\n",
       "      <td>10 hrs</td>\n",
       "      <td>13-01-10</td>\n",
       "      <td>English</td>\n",
       "      <td>4.5 out of 5 stars181 ratings</td>\n",
       "      <td>820.00</td>\n",
       "    </tr>\n",
       "  </tbody>\n",
       "</table>\n",
       "</div>"
      ],
      "text/plain": [
       "                                         name           author0    author1  \\\n",
       "0                  Geronimo Stilton #11 & #12  Geronimo Stilton  No Author   \n",
       "1                            The Burning Maze      Rick Riordan  No Author   \n",
       "2                                The Deep End       Jeff Kinney  No Author   \n",
       "3                        Daughter of the Deep      Rick Riordan  No Author   \n",
       "4  The Lightning Thief: Percy Jackson, Book 1      Rick Riordan  No Author   \n",
       "\n",
       "     author2    author3         narrator                time releasedate  \\\n",
       "0  No Author  No Author      Bill Lobely   2 hrs and 20 mins    04-08-08   \n",
       "1  No Author  No Author   Robbie Daymond   13 hrs and 8 mins    01-05-18   \n",
       "2  No Author  No Author      Dan Russell    2 hrs and 3 mins    06-11-20   \n",
       "3  No Author  No Author  Soneela Nankani  11 hrs and 16 mins    05-10-21   \n",
       "4  No Author  No Author  Jesse Bernstein              10 hrs    13-01-10   \n",
       "\n",
       "  language                          stars   price  \n",
       "0  English     5 out of 5 stars34 ratings  468.00  \n",
       "1  English   4.5 out of 5 stars41 ratings  820.00  \n",
       "2  English   4.5 out of 5 stars38 ratings  410.00  \n",
       "3  English   4.5 out of 5 stars12 ratings  615.00  \n",
       "4  English  4.5 out of 5 stars181 ratings  820.00  "
      ]
     },
     "execution_count": 367,
     "metadata": {},
     "output_type": "execute_result"
    }
   ],
   "source": [
    "df_auc = pd.concat([df_auc['name'], \n",
    "                            #splits author into author1, author2 and author3.\n",
    "                            df_auc['author'].str.split(',', expand = True).add_prefix('author'),\n",
    "                            df_auc.loc[:,['narrator', 'time', 'releasedate', 'language', 'stars', 'price']]], \n",
    "                            axis = 1)\n",
    "\n",
    "# adding \"None\" to author 1, 2, 3 if there's no author (missing values)\n",
    "df_auc[['author1', 'author2', 'author3']] = df_auc[['author1', 'author2', 'author3']].fillna('No Author')\n",
    "\n",
    "df_auc.head()"
   ]
  },
  {
   "cell_type": "code",
   "execution_count": 368,
   "metadata": {},
   "outputs": [
    {
     "data": {
      "text/html": [
       "<div>\n",
       "<style scoped>\n",
       "    .dataframe tbody tr th:only-of-type {\n",
       "        vertical-align: middle;\n",
       "    }\n",
       "\n",
       "    .dataframe tbody tr th {\n",
       "        vertical-align: top;\n",
       "    }\n",
       "\n",
       "    .dataframe thead th {\n",
       "        text-align: right;\n",
       "    }\n",
       "</style>\n",
       "<table border=\"1\" class=\"dataframe\">\n",
       "  <thead>\n",
       "    <tr style=\"text-align: right;\">\n",
       "      <th></th>\n",
       "      <th>name</th>\n",
       "      <th>author0</th>\n",
       "      <th>author1</th>\n",
       "      <th>author2</th>\n",
       "      <th>author3</th>\n",
       "      <th>narrator</th>\n",
       "      <th>time</th>\n",
       "      <th>releasedate</th>\n",
       "      <th>language</th>\n",
       "      <th>stars</th>\n",
       "      <th>price</th>\n",
       "    </tr>\n",
       "  </thead>\n",
       "  <tbody>\n",
       "    <tr>\n",
       "      <th>8407</th>\n",
       "      <td>Night of the New Magicians</td>\n",
       "      <td>Mary Pope Osborne</td>\n",
       "      <td>No Author</td>\n",
       "      <td>No Author</td>\n",
       "      <td>No Author</td>\n",
       "      <td>Mary Pope Osborne</td>\n",
       "      <td>1 hr and 17 mins</td>\n",
       "      <td>13-03-06</td>\n",
       "      <td>English</td>\n",
       "      <td>5 out of 5 stars1 rating</td>\n",
       "      <td>301.00</td>\n",
       "    </tr>\n",
       "    <tr>\n",
       "      <th>11786</th>\n",
       "      <td>Is Everyone Really Equal?</td>\n",
       "      <td>Özlem Sensoy</td>\n",
       "      <td>Robin Di Angelo</td>\n",
       "      <td>No Author</td>\n",
       "      <td>No Author</td>\n",
       "      <td>Kirsten Potter</td>\n",
       "      <td>10 hrs and 58 mins</td>\n",
       "      <td>30-03-21</td>\n",
       "      <td>English</td>\n",
       "      <td>Not rated yet</td>\n",
       "      <td>703.00</td>\n",
       "    </tr>\n",
       "    <tr>\n",
       "      <th>71037</th>\n",
       "      <td>Slayed by Darkness</td>\n",
       "      <td>Alexandra Ivy</td>\n",
       "      <td>No Author</td>\n",
       "      <td>No Author</td>\n",
       "      <td>No Author</td>\n",
       "      <td>Tanya Eby</td>\n",
       "      <td>2 hrs and 41 mins</td>\n",
       "      <td>29-06-21</td>\n",
       "      <td>English</td>\n",
       "      <td>Not rated yet</td>\n",
       "      <td>352.00</td>\n",
       "    </tr>\n",
       "    <tr>\n",
       "      <th>1004</th>\n",
       "      <td>The Princess in Black and the Science Fair Scare</td>\n",
       "      <td>Shannon Hale</td>\n",
       "      <td>Dean Hale</td>\n",
       "      <td>No Author</td>\n",
       "      <td>No Author</td>\n",
       "      <td>Julia Whelan</td>\n",
       "      <td>18 mins</td>\n",
       "      <td>25-09-18</td>\n",
       "      <td>English</td>\n",
       "      <td>Not rated yet</td>\n",
       "      <td>352.00</td>\n",
       "    </tr>\n",
       "    <tr>\n",
       "      <th>71202</th>\n",
       "      <td>Ravaged</td>\n",
       "      <td>Elisabeth Naughton</td>\n",
       "      <td>No Author</td>\n",
       "      <td>No Author</td>\n",
       "      <td>No Author</td>\n",
       "      <td>Elizabeth Wiley</td>\n",
       "      <td>5 hrs and 1 min</td>\n",
       "      <td>26-01-16</td>\n",
       "      <td>English</td>\n",
       "      <td>Not rated yet</td>\n",
       "      <td>668.00</td>\n",
       "    </tr>\n",
       "  </tbody>\n",
       "</table>\n",
       "</div>"
      ],
      "text/plain": [
       "                                                   name             author0  \\\n",
       "8407                         Night of the New Magicians   Mary Pope Osborne   \n",
       "11786                         Is Everyone Really Equal?        Özlem Sensoy   \n",
       "71037                                Slayed by Darkness       Alexandra Ivy   \n",
       "1004   The Princess in Black and the Science Fair Scare        Shannon Hale   \n",
       "71202                                           Ravaged  Elisabeth Naughton   \n",
       "\n",
       "               author1    author2    author3           narrator  \\\n",
       "8407         No Author  No Author  No Author  Mary Pope Osborne   \n",
       "11786  Robin Di Angelo  No Author  No Author     Kirsten Potter   \n",
       "71037        No Author  No Author  No Author          Tanya Eby   \n",
       "1004         Dean Hale  No Author  No Author       Julia Whelan   \n",
       "71202        No Author  No Author  No Author    Elizabeth Wiley   \n",
       "\n",
       "                     time releasedate language                     stars  \\\n",
       "8407     1 hr and 17 mins    13-03-06  English  5 out of 5 stars1 rating   \n",
       "11786  10 hrs and 58 mins    30-03-21  English             Not rated yet   \n",
       "71037   2 hrs and 41 mins    29-06-21  English             Not rated yet   \n",
       "1004              18 mins    25-09-18  English             Not rated yet   \n",
       "71202     5 hrs and 1 min    26-01-16  English             Not rated yet   \n",
       "\n",
       "        price  \n",
       "8407   301.00  \n",
       "11786  703.00  \n",
       "71037  352.00  \n",
       "1004   352.00  \n",
       "71202  668.00  "
      ]
     },
     "execution_count": 368,
     "metadata": {},
     "output_type": "execute_result"
    }
   ],
   "source": [
    "df_auc.sample(5, random_state=6)"
   ]
  },
  {
   "cell_type": "code",
   "execution_count": 369,
   "metadata": {},
   "outputs": [
    {
     "data": {
      "text/plain": [
       "author0\n",
       "矢島雅弘                   874\n",
       "Smart Reading          405\n",
       "中西貴之                   311\n",
       "div.                   276\n",
       "William Shakespeare    242\n",
       "                      ... \n",
       "Gillian Riley            1\n",
       "John Elmore              1\n",
       "Ralf Herter              1\n",
       "Ulrike Wolpers           1\n",
       "Stephen O'Shea           1\n",
       "Name: count, Length: 44839, dtype: int64"
      ]
     },
     "execution_count": 369,
     "metadata": {},
     "output_type": "execute_result"
    }
   ],
   "source": [
    "df_auc.author0.value_counts()"
   ]
  },
  {
   "cell_type": "code",
   "execution_count": 370,
   "metadata": {},
   "outputs": [
    {
     "data": {
      "text/plain": [
       "author1\n",
       "No Author             73762\n",
       "石橋遊                     874\n",
       "B J                     311\n",
       "Mark Victor Hansen       65\n",
       "Yannick Esters           65\n",
       "                      ...  \n",
       "Paul Reilly               1\n",
       "Sean Callahan             1\n",
       "Doug Fletcher             1\n",
       "Marylou Tyler             1\n",
       "Hamish Hamilton           1\n",
       "Name: count, Length: 9157, dtype: int64"
      ]
     },
     "execution_count": 370,
     "metadata": {},
     "output_type": "execute_result"
    }
   ],
   "source": [
    "df_auc.author1.value_counts()"
   ]
  },
  {
   "cell_type": "code",
   "execution_count": 371,
   "metadata": {},
   "outputs": [
    {
     "data": {
      "text/plain": [
       "author2\n",
       "No Author                   85135\n",
       "Twin Sisters                   19\n",
       "Amy Newmark                    14\n",
       "Amy Newmark-editor             12\n",
       "Pauline Verduzier               9\n",
       "                            ...  \n",
       "James Wood                      1\n",
       "Johan Rockström-foreword        1\n",
       "Jeffrey F.Ma                    1\n",
       "John P.Kotter                   1\n",
       "Agneta Cras                     1\n",
       "Name: count, Length: 1999, dtype: int64"
      ]
     },
     "execution_count": 371,
     "metadata": {},
     "output_type": "execute_result"
    }
   ],
   "source": [
    "df_auc.author2.value_counts()"
   ]
  },
  {
   "cell_type": "code",
   "execution_count": 372,
   "metadata": {},
   "outputs": [
    {
     "data": {
      "text/plain": [
       "author3\n",
       "No Author    86713\n",
       "               776\n",
       "Name: count, dtype: int64"
      ]
     },
     "execution_count": 372,
     "metadata": {},
     "output_type": "execute_result"
    }
   ],
   "source": [
    "df_auc.author3.value_counts()"
   ]
  },
  {
   "cell_type": "markdown",
   "metadata": {},
   "source": [
    "Apparently there's no author in `author3`, let's remove the column\n"
   ]
  },
  {
   "cell_type": "code",
   "execution_count": 373,
   "metadata": {},
   "outputs": [
    {
     "data": {
      "text/html": [
       "<div>\n",
       "<style scoped>\n",
       "    .dataframe tbody tr th:only-of-type {\n",
       "        vertical-align: middle;\n",
       "    }\n",
       "\n",
       "    .dataframe tbody tr th {\n",
       "        vertical-align: top;\n",
       "    }\n",
       "\n",
       "    .dataframe thead th {\n",
       "        text-align: right;\n",
       "    }\n",
       "</style>\n",
       "<table border=\"1\" class=\"dataframe\">\n",
       "  <thead>\n",
       "    <tr style=\"text-align: right;\">\n",
       "      <th></th>\n",
       "      <th>name</th>\n",
       "      <th>author0</th>\n",
       "      <th>author1</th>\n",
       "      <th>author2</th>\n",
       "      <th>narrator</th>\n",
       "      <th>time</th>\n",
       "      <th>releasedate</th>\n",
       "      <th>language</th>\n",
       "      <th>stars</th>\n",
       "      <th>price</th>\n",
       "    </tr>\n",
       "  </thead>\n",
       "  <tbody>\n",
       "    <tr>\n",
       "      <th>0</th>\n",
       "      <td>Geronimo Stilton #11 &amp; #12</td>\n",
       "      <td>Geronimo Stilton</td>\n",
       "      <td>No Author</td>\n",
       "      <td>No Author</td>\n",
       "      <td>Bill Lobely</td>\n",
       "      <td>2 hrs and 20 mins</td>\n",
       "      <td>04-08-08</td>\n",
       "      <td>English</td>\n",
       "      <td>5 out of 5 stars34 ratings</td>\n",
       "      <td>468.00</td>\n",
       "    </tr>\n",
       "    <tr>\n",
       "      <th>1</th>\n",
       "      <td>The Burning Maze</td>\n",
       "      <td>Rick Riordan</td>\n",
       "      <td>No Author</td>\n",
       "      <td>No Author</td>\n",
       "      <td>Robbie Daymond</td>\n",
       "      <td>13 hrs and 8 mins</td>\n",
       "      <td>01-05-18</td>\n",
       "      <td>English</td>\n",
       "      <td>4.5 out of 5 stars41 ratings</td>\n",
       "      <td>820.00</td>\n",
       "    </tr>\n",
       "    <tr>\n",
       "      <th>2</th>\n",
       "      <td>The Deep End</td>\n",
       "      <td>Jeff Kinney</td>\n",
       "      <td>No Author</td>\n",
       "      <td>No Author</td>\n",
       "      <td>Dan Russell</td>\n",
       "      <td>2 hrs and 3 mins</td>\n",
       "      <td>06-11-20</td>\n",
       "      <td>English</td>\n",
       "      <td>4.5 out of 5 stars38 ratings</td>\n",
       "      <td>410.00</td>\n",
       "    </tr>\n",
       "  </tbody>\n",
       "</table>\n",
       "</div>"
      ],
      "text/plain": [
       "                         name           author0    author1    author2  \\\n",
       "0  Geronimo Stilton #11 & #12  Geronimo Stilton  No Author  No Author   \n",
       "1            The Burning Maze      Rick Riordan  No Author  No Author   \n",
       "2                The Deep End       Jeff Kinney  No Author  No Author   \n",
       "\n",
       "         narrator               time releasedate language  \\\n",
       "0     Bill Lobely  2 hrs and 20 mins    04-08-08  English   \n",
       "1  Robbie Daymond  13 hrs and 8 mins    01-05-18  English   \n",
       "2     Dan Russell   2 hrs and 3 mins    06-11-20  English   \n",
       "\n",
       "                          stars   price  \n",
       "0    5 out of 5 stars34 ratings  468.00  \n",
       "1  4.5 out of 5 stars41 ratings  820.00  \n",
       "2  4.5 out of 5 stars38 ratings  410.00  "
      ]
     },
     "execution_count": 373,
     "metadata": {},
     "output_type": "execute_result"
    }
   ],
   "source": [
    "df_auc.drop('author3', axis=1, inplace=True)\n",
    "df_auc.head(3)"
   ]
  },
  {
   "cell_type": "markdown",
   "metadata": {},
   "source": [
    "2. Turn `Time` column into a minute of duration instead"
   ]
  },
  {
   "cell_type": "code",
   "execution_count": 374,
   "metadata": {},
   "outputs": [
    {
     "data": {
      "text/html": [
       "<div>\n",
       "<style scoped>\n",
       "    .dataframe tbody tr th:only-of-type {\n",
       "        vertical-align: middle;\n",
       "    }\n",
       "\n",
       "    .dataframe tbody tr th {\n",
       "        vertical-align: top;\n",
       "    }\n",
       "\n",
       "    .dataframe thead th {\n",
       "        text-align: right;\n",
       "    }\n",
       "</style>\n",
       "<table border=\"1\" class=\"dataframe\">\n",
       "  <thead>\n",
       "    <tr style=\"text-align: right;\">\n",
       "      <th></th>\n",
       "      <th>name</th>\n",
       "      <th>author0</th>\n",
       "      <th>author1</th>\n",
       "      <th>author2</th>\n",
       "      <th>narrator</th>\n",
       "      <th>releasedate</th>\n",
       "      <th>language</th>\n",
       "      <th>stars</th>\n",
       "      <th>price</th>\n",
       "      <th>duration_in_minutes</th>\n",
       "    </tr>\n",
       "  </thead>\n",
       "  <tbody>\n",
       "    <tr>\n",
       "      <th>0</th>\n",
       "      <td>Geronimo Stilton #11 &amp; #12</td>\n",
       "      <td>Geronimo Stilton</td>\n",
       "      <td>No Author</td>\n",
       "      <td>No Author</td>\n",
       "      <td>Bill Lobely</td>\n",
       "      <td>04-08-08</td>\n",
       "      <td>English</td>\n",
       "      <td>5 out of 5 stars34 ratings</td>\n",
       "      <td>468.00</td>\n",
       "      <td>140</td>\n",
       "    </tr>\n",
       "    <tr>\n",
       "      <th>1</th>\n",
       "      <td>The Burning Maze</td>\n",
       "      <td>Rick Riordan</td>\n",
       "      <td>No Author</td>\n",
       "      <td>No Author</td>\n",
       "      <td>Robbie Daymond</td>\n",
       "      <td>01-05-18</td>\n",
       "      <td>English</td>\n",
       "      <td>4.5 out of 5 stars41 ratings</td>\n",
       "      <td>820.00</td>\n",
       "      <td>788</td>\n",
       "    </tr>\n",
       "    <tr>\n",
       "      <th>2</th>\n",
       "      <td>The Deep End</td>\n",
       "      <td>Jeff Kinney</td>\n",
       "      <td>No Author</td>\n",
       "      <td>No Author</td>\n",
       "      <td>Dan Russell</td>\n",
       "      <td>06-11-20</td>\n",
       "      <td>English</td>\n",
       "      <td>4.5 out of 5 stars38 ratings</td>\n",
       "      <td>410.00</td>\n",
       "      <td>123</td>\n",
       "    </tr>\n",
       "    <tr>\n",
       "      <th>3</th>\n",
       "      <td>Daughter of the Deep</td>\n",
       "      <td>Rick Riordan</td>\n",
       "      <td>No Author</td>\n",
       "      <td>No Author</td>\n",
       "      <td>Soneela Nankani</td>\n",
       "      <td>05-10-21</td>\n",
       "      <td>English</td>\n",
       "      <td>4.5 out of 5 stars12 ratings</td>\n",
       "      <td>615.00</td>\n",
       "      <td>676</td>\n",
       "    </tr>\n",
       "    <tr>\n",
       "      <th>4</th>\n",
       "      <td>The Lightning Thief: Percy Jackson, Book 1</td>\n",
       "      <td>Rick Riordan</td>\n",
       "      <td>No Author</td>\n",
       "      <td>No Author</td>\n",
       "      <td>Jesse Bernstein</td>\n",
       "      <td>13-01-10</td>\n",
       "      <td>English</td>\n",
       "      <td>4.5 out of 5 stars181 ratings</td>\n",
       "      <td>820.00</td>\n",
       "      <td>600</td>\n",
       "    </tr>\n",
       "  </tbody>\n",
       "</table>\n",
       "</div>"
      ],
      "text/plain": [
       "                                         name           author0    author1  \\\n",
       "0                  Geronimo Stilton #11 & #12  Geronimo Stilton  No Author   \n",
       "1                            The Burning Maze      Rick Riordan  No Author   \n",
       "2                                The Deep End       Jeff Kinney  No Author   \n",
       "3                        Daughter of the Deep      Rick Riordan  No Author   \n",
       "4  The Lightning Thief: Percy Jackson, Book 1      Rick Riordan  No Author   \n",
       "\n",
       "     author2         narrator releasedate language  \\\n",
       "0  No Author      Bill Lobely    04-08-08  English   \n",
       "1  No Author   Robbie Daymond    01-05-18  English   \n",
       "2  No Author      Dan Russell    06-11-20  English   \n",
       "3  No Author  Soneela Nankani    05-10-21  English   \n",
       "4  No Author  Jesse Bernstein    13-01-10  English   \n",
       "\n",
       "                           stars   price  duration_in_minutes  \n",
       "0     5 out of 5 stars34 ratings  468.00                  140  \n",
       "1   4.5 out of 5 stars41 ratings  820.00                  788  \n",
       "2   4.5 out of 5 stars38 ratings  410.00                  123  \n",
       "3   4.5 out of 5 stars12 ratings  615.00                  676  \n",
       "4  4.5 out of 5 stars181 ratings  820.00                  600  "
      ]
     },
     "execution_count": 374,
     "metadata": {},
     "output_type": "execute_result"
    }
   ],
   "source": [
    "# Function to convert 'time' to minutes\n",
    "def time_to_minutes(time_str):\n",
    "    # Use regular expressions to extract hours and minutes\n",
    "    hours_match = re.search(r'(\\d+) hrs', time_str)\n",
    "    minutes_match = re.search(r'(\\d+) mins', time_str)\n",
    "    \n",
    "    hours = int(hours_match.group(1)) if hours_match else 0\n",
    "    minutes = int(minutes_match.group(1)) if minutes_match else 0\n",
    "    \n",
    "    return hours * 60 + minutes\n",
    "\n",
    "# Apply the function to the 'time' column\n",
    "df_auc['duration_in_minutes'] = df_auc['time'].apply(time_to_minutes)\n",
    "\n",
    "df_auc.drop('time', axis=1, inplace=True)\n",
    "\n",
    "df_auc.head()"
   ]
  },
  {
   "cell_type": "markdown",
   "metadata": {},
   "source": [
    "3. Convert some column with corrected data type"
   ]
  },
  {
   "cell_type": "code",
   "execution_count": 375,
   "metadata": {},
   "outputs": [
    {
     "data": {
      "text/html": [
       "<div>\n",
       "<style scoped>\n",
       "    .dataframe tbody tr th:only-of-type {\n",
       "        vertical-align: middle;\n",
       "    }\n",
       "\n",
       "    .dataframe tbody tr th {\n",
       "        vertical-align: top;\n",
       "    }\n",
       "\n",
       "    .dataframe thead th {\n",
       "        text-align: right;\n",
       "    }\n",
       "</style>\n",
       "<table border=\"1\" class=\"dataframe\">\n",
       "  <thead>\n",
       "    <tr style=\"text-align: right;\">\n",
       "      <th></th>\n",
       "      <th>name</th>\n",
       "      <th>author0</th>\n",
       "      <th>author1</th>\n",
       "      <th>author2</th>\n",
       "      <th>narrator</th>\n",
       "      <th>releasedate</th>\n",
       "      <th>language</th>\n",
       "      <th>stars</th>\n",
       "      <th>price</th>\n",
       "      <th>duration_in_minutes</th>\n",
       "    </tr>\n",
       "  </thead>\n",
       "  <tbody>\n",
       "    <tr>\n",
       "      <th>0</th>\n",
       "      <td>Geronimo Stilton #11 &amp; #12</td>\n",
       "      <td>Geronimo Stilton</td>\n",
       "      <td>No Author</td>\n",
       "      <td>No Author</td>\n",
       "      <td>Bill Lobely</td>\n",
       "      <td>2008-08-04</td>\n",
       "      <td>English</td>\n",
       "      <td>5 out of 5 stars34 ratings</td>\n",
       "      <td>468.00</td>\n",
       "      <td>140</td>\n",
       "    </tr>\n",
       "    <tr>\n",
       "      <th>1</th>\n",
       "      <td>The Burning Maze</td>\n",
       "      <td>Rick Riordan</td>\n",
       "      <td>No Author</td>\n",
       "      <td>No Author</td>\n",
       "      <td>Robbie Daymond</td>\n",
       "      <td>2018-05-01</td>\n",
       "      <td>English</td>\n",
       "      <td>4.5 out of 5 stars41 ratings</td>\n",
       "      <td>820.00</td>\n",
       "      <td>788</td>\n",
       "    </tr>\n",
       "  </tbody>\n",
       "</table>\n",
       "</div>"
      ],
      "text/plain": [
       "                         name           author0    author1    author2  \\\n",
       "0  Geronimo Stilton #11 & #12  Geronimo Stilton  No Author  No Author   \n",
       "1            The Burning Maze      Rick Riordan  No Author  No Author   \n",
       "\n",
       "         narrator releasedate language                         stars   price  \\\n",
       "0     Bill Lobely  2008-08-04  English    5 out of 5 stars34 ratings  468.00   \n",
       "1  Robbie Daymond  2018-05-01  English  4.5 out of 5 stars41 ratings  820.00   \n",
       "\n",
       "   duration_in_minutes  \n",
       "0                  140  \n",
       "1                  788  "
      ]
     },
     "execution_count": 375,
     "metadata": {},
     "output_type": "execute_result"
    }
   ],
   "source": [
    "# releasedate\n",
    "df_auc['releasedate'] = pd.to_datetime(df_auc['releasedate'], format = '%d-%m-%y')\n",
    "\n",
    "df_auc.head(2)"
   ]
  },
  {
   "cell_type": "code",
   "execution_count": 376,
   "metadata": {},
   "outputs": [
    {
     "data": {
      "text/plain": [
       "price\n",
       "586.00      5533\n",
       "668.00      4262\n",
       "703.00      3588\n",
       "836.00      2704\n",
       "820.00      2458\n",
       "            ... \n",
       "2,631.00       1\n",
       "2,764.00       1\n",
       "895.00         1\n",
       "364.00         1\n",
       "544.00         1\n",
       "Name: count, Length: 1011, dtype: int64"
      ]
     },
     "execution_count": 376,
     "metadata": {},
     "output_type": "execute_result"
    }
   ],
   "source": [
    "df_auc.price.value_counts()"
   ]
  },
  {
   "cell_type": "code",
   "execution_count": 377,
   "metadata": {},
   "outputs": [
    {
     "name": "stdout",
     "output_type": "stream",
     "text": [
      "There are: 338 free books\n"
     ]
    }
   ],
   "source": [
    "print(f'There are: {len(df_auc[df_auc[\"price\"] == \"Free\"])} free books') # apparently there are 338 free books"
   ]
  },
  {
   "cell_type": "code",
   "execution_count": 378,
   "metadata": {},
   "outputs": [],
   "source": [
    "# replace Free with 0\n",
    "df_auc['price'] = df_auc['price'].str.replace('Free', '0')\n",
    "\n",
    "# removing commas (,) from price\n",
    "df_auc['price'] = df_auc['price'].str.replace(',', '')\n",
    "\n",
    "# convert to float\n",
    "df_auc['price'] = df_auc['price'].astype(float)"
   ]
  },
  {
   "cell_type": "code",
   "execution_count": 379,
   "metadata": {},
   "outputs": [
    {
     "data": {
      "text/html": [
       "<div>\n",
       "<style scoped>\n",
       "    .dataframe tbody tr th:only-of-type {\n",
       "        vertical-align: middle;\n",
       "    }\n",
       "\n",
       "    .dataframe tbody tr th {\n",
       "        vertical-align: top;\n",
       "    }\n",
       "\n",
       "    .dataframe thead th {\n",
       "        text-align: right;\n",
       "    }\n",
       "</style>\n",
       "<table border=\"1\" class=\"dataframe\">\n",
       "  <thead>\n",
       "    <tr style=\"text-align: right;\">\n",
       "      <th></th>\n",
       "      <th>name</th>\n",
       "      <th>author0</th>\n",
       "      <th>author1</th>\n",
       "      <th>author2</th>\n",
       "      <th>narrator</th>\n",
       "      <th>releasedate</th>\n",
       "      <th>language</th>\n",
       "      <th>stars</th>\n",
       "      <th>price</th>\n",
       "      <th>duration_in_minutes</th>\n",
       "    </tr>\n",
       "  </thead>\n",
       "  <tbody>\n",
       "    <tr>\n",
       "      <th>41068</th>\n",
       "      <td>The RBG Way</td>\n",
       "      <td>Rebecca Gibian</td>\n",
       "      <td>No Author</td>\n",
       "      <td>No Author</td>\n",
       "      <td>Jo Anna Perrin</td>\n",
       "      <td>2019-12-17</td>\n",
       "      <td>English</td>\n",
       "      <td>5 out of 5 stars1 rating</td>\n",
       "      <td>1172.0</td>\n",
       "      <td>275</td>\n",
       "    </tr>\n",
       "    <tr>\n",
       "      <th>57468</th>\n",
       "      <td>Can't Pay, Won't Pay</td>\n",
       "      <td>The Debt Collective</td>\n",
       "      <td>Astra Taylor-foreword</td>\n",
       "      <td>No Author</td>\n",
       "      <td>Nancy Peterson</td>\n",
       "      <td>2020-09-29</td>\n",
       "      <td>English</td>\n",
       "      <td>Not rated yet</td>\n",
       "      <td>585.0</td>\n",
       "      <td>273</td>\n",
       "    </tr>\n",
       "    <tr>\n",
       "      <th>34841</th>\n",
       "      <td>Paleo: no es una dieta, es un estilo de vida [...</td>\n",
       "      <td>Tomás Pulido Galán</td>\n",
       "      <td>No Author</td>\n",
       "      <td>No Author</td>\n",
       "      <td>Jordi Salas Salas</td>\n",
       "      <td>2020-02-03</td>\n",
       "      <td>spanish</td>\n",
       "      <td>Not rated yet</td>\n",
       "      <td>164.0</td>\n",
       "      <td>198</td>\n",
       "    </tr>\n",
       "  </tbody>\n",
       "</table>\n",
       "</div>"
      ],
      "text/plain": [
       "                                                    name              author0  \\\n",
       "41068                                        The RBG Way       Rebecca Gibian   \n",
       "57468                               Can't Pay, Won't Pay  The Debt Collective   \n",
       "34841  Paleo: no es una dieta, es un estilo de vida [...   Tomás Pulido Galán   \n",
       "\n",
       "                     author1    author2           narrator releasedate  \\\n",
       "41068              No Author  No Author     Jo Anna Perrin  2019-12-17   \n",
       "57468  Astra Taylor-foreword  No Author     Nancy Peterson  2020-09-29   \n",
       "34841              No Author  No Author  Jordi Salas Salas  2020-02-03   \n",
       "\n",
       "      language                     stars   price  duration_in_minutes  \n",
       "41068  English  5 out of 5 stars1 rating  1172.0                  275  \n",
       "57468  English             Not rated yet   585.0                  273  \n",
       "34841  spanish             Not rated yet   164.0                  198  "
      ]
     },
     "execution_count": 379,
     "metadata": {},
     "output_type": "execute_result"
    }
   ],
   "source": [
    "df_auc.sample(3)"
   ]
  },
  {
   "cell_type": "code",
   "execution_count": 380,
   "metadata": {},
   "outputs": [
    {
     "name": "stdout",
     "output_type": "stream",
     "text": [
      "<class 'pandas.core.frame.DataFrame'>\n",
      "RangeIndex: 87489 entries, 0 to 87488\n",
      "Data columns (total 10 columns):\n",
      " #   Column               Non-Null Count  Dtype         \n",
      "---  ------               --------------  -----         \n",
      " 0   name                 87489 non-null  object        \n",
      " 1   author0              87489 non-null  object        \n",
      " 2   author1              87489 non-null  object        \n",
      " 3   author2              87489 non-null  object        \n",
      " 4   narrator             87489 non-null  object        \n",
      " 5   releasedate          87489 non-null  datetime64[ns]\n",
      " 6   language             87489 non-null  object        \n",
      " 7   stars                87489 non-null  object        \n",
      " 8   price                87489 non-null  float64       \n",
      " 9   duration_in_minutes  87489 non-null  int64         \n",
      "dtypes: datetime64[ns](1), float64(1), int64(1), object(7)\n",
      "memory usage: 6.7+ MB\n"
     ]
    }
   ],
   "source": [
    "df_auc.info()"
   ]
  },
  {
   "cell_type": "markdown",
   "metadata": {},
   "source": [
    "FIx `stars` column"
   ]
  },
  {
   "cell_type": "code",
   "execution_count": 381,
   "metadata": {},
   "outputs": [
    {
     "data": {
      "text/plain": [
       "stars\n",
       "Not rated yet                    72417\n",
       "5 out of 5 stars1 rating          3739\n",
       "4 out of 5 stars1 rating          1254\n",
       "5 out of 5 stars2 ratings          998\n",
       "4.5 out of 5 stars2 ratings        661\n",
       "                                 ...  \n",
       "3.5 out of 5 stars61 ratings         1\n",
       "5 out of 5 stars321 ratings          1\n",
       "5 out of 5 stars93 ratings           1\n",
       "4.5 out of 5 stars747 ratings        1\n",
       "4 out of 5 stars76 ratings           1\n",
       "Name: count, Length: 665, dtype: int64"
      ]
     },
     "execution_count": 381,
     "metadata": {},
     "output_type": "execute_result"
    }
   ],
   "source": [
    "df_auc.stars.value_counts()"
   ]
  },
  {
   "cell_type": "code",
   "execution_count": 382,
   "metadata": {},
   "outputs": [],
   "source": [
    "# turn stars into rating_stars and total_rating\n",
    "df_auc[['rating_stars_out_of_5', 'total_rating']] = df_auc['stars'].str.split('stars', expand=True)\n",
    "df_auc['total_rating'] = df_auc['total_rating'].str.replace('out of', '/')\n",
    "\n",
    "\n",
    "# removing \"rating\" text from total_rating with emtpy string\n",
    "df_auc['total_rating'] = df_auc['total_rating'].str.replace(' ratings', '')\n",
    "\n",
    "df_auc.drop('stars', axis=1, inplace=True)"
   ]
  },
  {
   "cell_type": "code",
   "execution_count": 383,
   "metadata": {},
   "outputs": [
    {
     "data": {
      "text/html": [
       "<div>\n",
       "<style scoped>\n",
       "    .dataframe tbody tr th:only-of-type {\n",
       "        vertical-align: middle;\n",
       "    }\n",
       "\n",
       "    .dataframe tbody tr th {\n",
       "        vertical-align: top;\n",
       "    }\n",
       "\n",
       "    .dataframe thead th {\n",
       "        text-align: right;\n",
       "    }\n",
       "</style>\n",
       "<table border=\"1\" class=\"dataframe\">\n",
       "  <thead>\n",
       "    <tr style=\"text-align: right;\">\n",
       "      <th></th>\n",
       "      <th>name</th>\n",
       "      <th>author0</th>\n",
       "      <th>author1</th>\n",
       "      <th>author2</th>\n",
       "      <th>narrator</th>\n",
       "      <th>releasedate</th>\n",
       "      <th>language</th>\n",
       "      <th>price</th>\n",
       "      <th>duration_in_minutes</th>\n",
       "      <th>rating_stars_out_of_5</th>\n",
       "      <th>total_rating</th>\n",
       "    </tr>\n",
       "  </thead>\n",
       "  <tbody>\n",
       "    <tr>\n",
       "      <th>34975</th>\n",
       "      <td>Die Armada der Irren</td>\n",
       "      <td>Jens Fischer Rodrian</td>\n",
       "      <td>No Author</td>\n",
       "      <td>No Author</td>\n",
       "      <td>Allyson Voller</td>\n",
       "      <td>2022-03-28</td>\n",
       "      <td>german</td>\n",
       "      <td>468.0</td>\n",
       "      <td>290</td>\n",
       "      <td>Not rated yet</td>\n",
       "      <td>None</td>\n",
       "    </tr>\n",
       "    <tr>\n",
       "      <th>50744</th>\n",
       "      <td>A Man Without Breath</td>\n",
       "      <td>Philip Kerr</td>\n",
       "      <td>No Author</td>\n",
       "      <td>No Author</td>\n",
       "      <td>Jonathan Keeble</td>\n",
       "      <td>2022-03-03</td>\n",
       "      <td>English</td>\n",
       "      <td>873.0</td>\n",
       "      <td>895</td>\n",
       "      <td>Not rated yet</td>\n",
       "      <td>None</td>\n",
       "    </tr>\n",
       "    <tr>\n",
       "      <th>22107</th>\n",
       "      <td>Crashing Through</td>\n",
       "      <td>Robert Kurson</td>\n",
       "      <td>No Author</td>\n",
       "      <td>No Author</td>\n",
       "      <td>Doug Ordunio</td>\n",
       "      <td>2007-04-30</td>\n",
       "      <td>English</td>\n",
       "      <td>1005.0</td>\n",
       "      <td>612</td>\n",
       "      <td>5 out of 5</td>\n",
       "      <td>1 rating</td>\n",
       "    </tr>\n",
       "    <tr>\n",
       "      <th>7759</th>\n",
       "      <td>Nate the Great and the Earth Day Robot</td>\n",
       "      <td>Andrew Sharmat</td>\n",
       "      <td>No Author</td>\n",
       "      <td>No Author</td>\n",
       "      <td>John Lavelle</td>\n",
       "      <td>2021-05-25</td>\n",
       "      <td>English</td>\n",
       "      <td>100.0</td>\n",
       "      <td>24</td>\n",
       "      <td>Not rated yet</td>\n",
       "      <td>None</td>\n",
       "    </tr>\n",
       "    <tr>\n",
       "      <th>43690</th>\n",
       "      <td>Annabel</td>\n",
       "      <td>Kathleen Winter</td>\n",
       "      <td>No Author</td>\n",
       "      <td>No Author</td>\n",
       "      <td>Laurence Bouvard</td>\n",
       "      <td>2011-06-10</td>\n",
       "      <td>English</td>\n",
       "      <td>752.0</td>\n",
       "      <td>704</td>\n",
       "      <td>Not rated yet</td>\n",
       "      <td>None</td>\n",
       "    </tr>\n",
       "  </tbody>\n",
       "</table>\n",
       "</div>"
      ],
      "text/plain": [
       "                                         name               author0  \\\n",
       "34975                    Die Armada der Irren  Jens Fischer Rodrian   \n",
       "50744                    A Man Without Breath           Philip Kerr   \n",
       "22107                        Crashing Through         Robert Kurson   \n",
       "7759   Nate the Great and the Earth Day Robot        Andrew Sharmat   \n",
       "43690                                 Annabel       Kathleen Winter   \n",
       "\n",
       "         author1    author2          narrator releasedate language   price  \\\n",
       "34975  No Author  No Author    Allyson Voller  2022-03-28   german   468.0   \n",
       "50744  No Author  No Author   Jonathan Keeble  2022-03-03  English   873.0   \n",
       "22107  No Author  No Author      Doug Ordunio  2007-04-30  English  1005.0   \n",
       "7759   No Author  No Author      John Lavelle  2021-05-25  English   100.0   \n",
       "43690  No Author  No Author  Laurence Bouvard  2011-06-10  English   752.0   \n",
       "\n",
       "       duration_in_minutes rating_stars_out_of_5 total_rating  \n",
       "34975                  290         Not rated yet         None  \n",
       "50744                  895         Not rated yet         None  \n",
       "22107                  612           5 out of 5      1 rating  \n",
       "7759                    24         Not rated yet         None  \n",
       "43690                  704         Not rated yet         None  "
      ]
     },
     "execution_count": 383,
     "metadata": {},
     "output_type": "execute_result"
    }
   ],
   "source": [
    "df_auc.sample(5, random_state=42)"
   ]
  },
  {
   "cell_type": "code",
   "execution_count": 384,
   "metadata": {},
   "outputs": [
    {
     "data": {
      "text/plain": [
       "total_rating\n",
       "1 rating    5822\n",
       "2           2315\n",
       "3           1207\n",
       "4            857\n",
       "5            535\n",
       "            ... \n",
       "5,500          1\n",
       "536            1\n",
       "287            1\n",
       "2,236          1\n",
       "126            1\n",
       "Name: count, Length: 384, dtype: int64"
      ]
     },
     "execution_count": 384,
     "metadata": {},
     "output_type": "execute_result"
    }
   ],
   "source": [
    "df_auc.total_rating.value_counts()"
   ]
  },
  {
   "cell_type": "code",
   "execution_count": 385,
   "metadata": {},
   "outputs": [
    {
     "name": "stdout",
     "output_type": "stream",
     "text": [
      "There are 72417 missing values in the dataset.\n",
      "There are 1 duplicated values in the dataset.\n"
     ]
    }
   ],
   "source": [
    "check_data(df_auc)"
   ]
  },
  {
   "cell_type": "code",
   "execution_count": 386,
   "metadata": {},
   "outputs": [
    {
     "data": {
      "text/html": [
       "<div>\n",
       "<style scoped>\n",
       "    .dataframe tbody tr th:only-of-type {\n",
       "        vertical-align: middle;\n",
       "    }\n",
       "\n",
       "    .dataframe tbody tr th {\n",
       "        vertical-align: top;\n",
       "    }\n",
       "\n",
       "    .dataframe thead th {\n",
       "        text-align: right;\n",
       "    }\n",
       "</style>\n",
       "<table border=\"1\" class=\"dataframe\">\n",
       "  <thead>\n",
       "    <tr style=\"text-align: right;\">\n",
       "      <th></th>\n",
       "      <th>name</th>\n",
       "      <th>author0</th>\n",
       "      <th>author1</th>\n",
       "      <th>author2</th>\n",
       "      <th>narrator</th>\n",
       "      <th>releasedate</th>\n",
       "      <th>language</th>\n",
       "      <th>price</th>\n",
       "      <th>duration_in_minutes</th>\n",
       "      <th>rating_stars_out_of_5</th>\n",
       "      <th>total_rating</th>\n",
       "    </tr>\n",
       "  </thead>\n",
       "  <tbody>\n",
       "    <tr>\n",
       "      <th>34975</th>\n",
       "      <td>Die Armada der Irren</td>\n",
       "      <td>Jens Fischer Rodrian</td>\n",
       "      <td>No Author</td>\n",
       "      <td>No Author</td>\n",
       "      <td>Allyson Voller</td>\n",
       "      <td>2022-03-28</td>\n",
       "      <td>german</td>\n",
       "      <td>468.0</td>\n",
       "      <td>290</td>\n",
       "      <td>Not rated yet</td>\n",
       "      <td>None</td>\n",
       "    </tr>\n",
       "    <tr>\n",
       "      <th>50744</th>\n",
       "      <td>A Man Without Breath</td>\n",
       "      <td>Philip Kerr</td>\n",
       "      <td>No Author</td>\n",
       "      <td>No Author</td>\n",
       "      <td>Jonathan Keeble</td>\n",
       "      <td>2022-03-03</td>\n",
       "      <td>English</td>\n",
       "      <td>873.0</td>\n",
       "      <td>895</td>\n",
       "      <td>Not rated yet</td>\n",
       "      <td>None</td>\n",
       "    </tr>\n",
       "    <tr>\n",
       "      <th>22107</th>\n",
       "      <td>Crashing Through</td>\n",
       "      <td>Robert Kurson</td>\n",
       "      <td>No Author</td>\n",
       "      <td>No Author</td>\n",
       "      <td>Doug Ordunio</td>\n",
       "      <td>2007-04-30</td>\n",
       "      <td>English</td>\n",
       "      <td>1005.0</td>\n",
       "      <td>612</td>\n",
       "      <td>5 out of 5</td>\n",
       "      <td>1</td>\n",
       "    </tr>\n",
       "    <tr>\n",
       "      <th>7759</th>\n",
       "      <td>Nate the Great and the Earth Day Robot</td>\n",
       "      <td>Andrew Sharmat</td>\n",
       "      <td>No Author</td>\n",
       "      <td>No Author</td>\n",
       "      <td>John Lavelle</td>\n",
       "      <td>2021-05-25</td>\n",
       "      <td>English</td>\n",
       "      <td>100.0</td>\n",
       "      <td>24</td>\n",
       "      <td>Not rated yet</td>\n",
       "      <td>None</td>\n",
       "    </tr>\n",
       "    <tr>\n",
       "      <th>43690</th>\n",
       "      <td>Annabel</td>\n",
       "      <td>Kathleen Winter</td>\n",
       "      <td>No Author</td>\n",
       "      <td>No Author</td>\n",
       "      <td>Laurence Bouvard</td>\n",
       "      <td>2011-06-10</td>\n",
       "      <td>English</td>\n",
       "      <td>752.0</td>\n",
       "      <td>704</td>\n",
       "      <td>Not rated yet</td>\n",
       "      <td>None</td>\n",
       "    </tr>\n",
       "  </tbody>\n",
       "</table>\n",
       "</div>"
      ],
      "text/plain": [
       "                                         name               author0  \\\n",
       "34975                    Die Armada der Irren  Jens Fischer Rodrian   \n",
       "50744                    A Man Without Breath           Philip Kerr   \n",
       "22107                        Crashing Through         Robert Kurson   \n",
       "7759   Nate the Great and the Earth Day Robot        Andrew Sharmat   \n",
       "43690                                 Annabel       Kathleen Winter   \n",
       "\n",
       "         author1    author2          narrator releasedate language   price  \\\n",
       "34975  No Author  No Author    Allyson Voller  2022-03-28   german   468.0   \n",
       "50744  No Author  No Author   Jonathan Keeble  2022-03-03  English   873.0   \n",
       "22107  No Author  No Author      Doug Ordunio  2007-04-30  English  1005.0   \n",
       "7759   No Author  No Author      John Lavelle  2021-05-25  English   100.0   \n",
       "43690  No Author  No Author  Laurence Bouvard  2011-06-10  English   752.0   \n",
       "\n",
       "       duration_in_minutes rating_stars_out_of_5 total_rating  \n",
       "34975                  290         Not rated yet         None  \n",
       "50744                  895         Not rated yet         None  \n",
       "22107                  612           5 out of 5             1  \n",
       "7759                    24         Not rated yet         None  \n",
       "43690                  704         Not rated yet         None  "
      ]
     },
     "execution_count": 386,
     "metadata": {},
     "output_type": "execute_result"
    }
   ],
   "source": [
    "# changing \"1 rating\" into 1\n",
    "df_auc['total_rating'] = df_auc['total_rating'].str.replace('1 rating', '1')\n",
    "df_auc.sample(5, random_state=42)"
   ]
  },
  {
   "cell_type": "code",
   "execution_count": 387,
   "metadata": {},
   "outputs": [
    {
     "data": {
      "text/plain": [
       "rating_stars_out_of_5\n",
       "Not rated yet    72417\n",
       "5 out of 5        6761\n",
       "4.5 out of 5      4046\n",
       "4 out of 5        2729\n",
       "3 out of 5         711\n",
       "3.5 out of 5       413\n",
       "2 out of 5         182\n",
       "1 out of 5         175\n",
       "2.5 out of 5        47\n",
       "1.5 out of 5         8\n",
       "Name: count, dtype: int64"
      ]
     },
     "execution_count": 387,
     "metadata": {},
     "output_type": "execute_result"
    }
   ],
   "source": [
    "df_auc['rating_stars_out_of_5'].value_counts()"
   ]
  },
  {
   "cell_type": "code",
   "execution_count": 388,
   "metadata": {},
   "outputs": [],
   "source": [
    "# replacing 'Not rated yet' with 0 in `rating_stars_out_of_5`\n",
    "df_auc['rating_stars_out_of_5'] = df_auc['rating_stars_out_of_5'].str.replace('Not rated yet', '0')\n",
    "\n",
    "# removing \"out of 5\" in `rating_stars_out_of_5` and convert to float datatype\n",
    "df_auc['rating_stars_out_of_5'] = df_auc['rating_stars_out_of_5'].str.replace('out of 5', '').astype('float') "
   ]
  },
  {
   "cell_type": "code",
   "execution_count": 389,
   "metadata": {},
   "outputs": [],
   "source": [
    "# removing commas from total_rating\n",
    "df_auc['total_rating'] = df_auc['total_rating'].str.replace(',', '')\n",
    "\n",
    "# fill missing value with 0\n",
    "df_auc['total_rating'] = df_auc['total_rating'].fillna(0)\n",
    "\n",
    "# convert to int\n",
    "df_auc['total_rating'] = df_auc['total_rating'].astype('int64')"
   ]
  },
  {
   "cell_type": "code",
   "execution_count": 390,
   "metadata": {},
   "outputs": [
    {
     "data": {
      "text/plain": [
       "name                     0\n",
       "author0                  0\n",
       "author1                  0\n",
       "author2                  0\n",
       "narrator                 0\n",
       "releasedate              0\n",
       "language                 0\n",
       "price                    0\n",
       "duration_in_minutes      0\n",
       "rating_stars_out_of_5    0\n",
       "total_rating             0\n",
       "dtype: int64"
      ]
     },
     "execution_count": 390,
     "metadata": {},
     "output_type": "execute_result"
    }
   ],
   "source": [
    "# checking the missing values again\n",
    "df_auc.isna().sum()\n"
   ]
  },
  {
   "cell_type": "code",
   "execution_count": 391,
   "metadata": {},
   "outputs": [
    {
     "name": "stdout",
     "output_type": "stream",
     "text": [
      "<class 'pandas.core.frame.DataFrame'>\n",
      "RangeIndex: 87489 entries, 0 to 87488\n",
      "Data columns (total 11 columns):\n",
      " #   Column                 Non-Null Count  Dtype         \n",
      "---  ------                 --------------  -----         \n",
      " 0   name                   87489 non-null  object        \n",
      " 1   author0                87489 non-null  object        \n",
      " 2   author1                87489 non-null  object        \n",
      " 3   author2                87489 non-null  object        \n",
      " 4   narrator               87489 non-null  object        \n",
      " 5   releasedate            87489 non-null  datetime64[ns]\n",
      " 6   language               87489 non-null  object        \n",
      " 7   price                  87489 non-null  float64       \n",
      " 8   duration_in_minutes    87489 non-null  int64         \n",
      " 9   rating_stars_out_of_5  87489 non-null  float64       \n",
      " 10  total_rating           87489 non-null  int64         \n",
      "dtypes: datetime64[ns](1), float64(2), int64(2), object(6)\n",
      "memory usage: 7.3+ MB\n"
     ]
    }
   ],
   "source": [
    "df_auc.info()"
   ]
  },
  {
   "cell_type": "code",
   "execution_count": 392,
   "metadata": {},
   "outputs": [
    {
     "data": {
      "text/html": [
       "<div>\n",
       "<style scoped>\n",
       "    .dataframe tbody tr th:only-of-type {\n",
       "        vertical-align: middle;\n",
       "    }\n",
       "\n",
       "    .dataframe tbody tr th {\n",
       "        vertical-align: top;\n",
       "    }\n",
       "\n",
       "    .dataframe thead th {\n",
       "        text-align: right;\n",
       "    }\n",
       "</style>\n",
       "<table border=\"1\" class=\"dataframe\">\n",
       "  <thead>\n",
       "    <tr style=\"text-align: right;\">\n",
       "      <th></th>\n",
       "      <th>name</th>\n",
       "      <th>author0</th>\n",
       "      <th>author1</th>\n",
       "      <th>author2</th>\n",
       "      <th>narrator</th>\n",
       "      <th>releasedate</th>\n",
       "      <th>language</th>\n",
       "      <th>price</th>\n",
       "      <th>duration_in_minutes</th>\n",
       "      <th>rating_stars_out_of_5</th>\n",
       "      <th>total_rating</th>\n",
       "    </tr>\n",
       "  </thead>\n",
       "  <tbody>\n",
       "    <tr>\n",
       "      <th>0</th>\n",
       "      <td>Geronimo Stilton #11 &amp; #12</td>\n",
       "      <td>Geronimo Stilton</td>\n",
       "      <td>No Author</td>\n",
       "      <td>No Author</td>\n",
       "      <td>Bill Lobely</td>\n",
       "      <td>2008-08-04</td>\n",
       "      <td>English</td>\n",
       "      <td>468.0</td>\n",
       "      <td>140</td>\n",
       "      <td>5.0</td>\n",
       "      <td>34</td>\n",
       "    </tr>\n",
       "    <tr>\n",
       "      <th>1</th>\n",
       "      <td>The Burning Maze</td>\n",
       "      <td>Rick Riordan</td>\n",
       "      <td>No Author</td>\n",
       "      <td>No Author</td>\n",
       "      <td>Robbie Daymond</td>\n",
       "      <td>2018-05-01</td>\n",
       "      <td>English</td>\n",
       "      <td>820.0</td>\n",
       "      <td>788</td>\n",
       "      <td>4.5</td>\n",
       "      <td>41</td>\n",
       "    </tr>\n",
       "    <tr>\n",
       "      <th>2</th>\n",
       "      <td>The Deep End</td>\n",
       "      <td>Jeff Kinney</td>\n",
       "      <td>No Author</td>\n",
       "      <td>No Author</td>\n",
       "      <td>Dan Russell</td>\n",
       "      <td>2020-11-06</td>\n",
       "      <td>English</td>\n",
       "      <td>410.0</td>\n",
       "      <td>123</td>\n",
       "      <td>4.5</td>\n",
       "      <td>38</td>\n",
       "    </tr>\n",
       "    <tr>\n",
       "      <th>3</th>\n",
       "      <td>Daughter of the Deep</td>\n",
       "      <td>Rick Riordan</td>\n",
       "      <td>No Author</td>\n",
       "      <td>No Author</td>\n",
       "      <td>Soneela Nankani</td>\n",
       "      <td>2021-10-05</td>\n",
       "      <td>English</td>\n",
       "      <td>615.0</td>\n",
       "      <td>676</td>\n",
       "      <td>4.5</td>\n",
       "      <td>12</td>\n",
       "    </tr>\n",
       "    <tr>\n",
       "      <th>4</th>\n",
       "      <td>The Lightning Thief: Percy Jackson, Book 1</td>\n",
       "      <td>Rick Riordan</td>\n",
       "      <td>No Author</td>\n",
       "      <td>No Author</td>\n",
       "      <td>Jesse Bernstein</td>\n",
       "      <td>2010-01-13</td>\n",
       "      <td>English</td>\n",
       "      <td>820.0</td>\n",
       "      <td>600</td>\n",
       "      <td>4.5</td>\n",
       "      <td>181</td>\n",
       "    </tr>\n",
       "  </tbody>\n",
       "</table>\n",
       "</div>"
      ],
      "text/plain": [
       "                                         name           author0    author1  \\\n",
       "0                  Geronimo Stilton #11 & #12  Geronimo Stilton  No Author   \n",
       "1                            The Burning Maze      Rick Riordan  No Author   \n",
       "2                                The Deep End       Jeff Kinney  No Author   \n",
       "3                        Daughter of the Deep      Rick Riordan  No Author   \n",
       "4  The Lightning Thief: Percy Jackson, Book 1      Rick Riordan  No Author   \n",
       "\n",
       "     author2         narrator releasedate language  price  \\\n",
       "0  No Author      Bill Lobely  2008-08-04  English  468.0   \n",
       "1  No Author   Robbie Daymond  2018-05-01  English  820.0   \n",
       "2  No Author      Dan Russell  2020-11-06  English  410.0   \n",
       "3  No Author  Soneela Nankani  2021-10-05  English  615.0   \n",
       "4  No Author  Jesse Bernstein  2010-01-13  English  820.0   \n",
       "\n",
       "   duration_in_minutes  rating_stars_out_of_5  total_rating  \n",
       "0                  140                    5.0            34  \n",
       "1                  788                    4.5            41  \n",
       "2                  123                    4.5            38  \n",
       "3                  676                    4.5            12  \n",
       "4                  600                    4.5           181  "
      ]
     },
     "execution_count": 392,
     "metadata": {},
     "output_type": "execute_result"
    }
   ],
   "source": [
    "df_auc.head()"
   ]
  },
  {
   "cell_type": "code",
   "execution_count": 393,
   "metadata": {},
   "outputs": [
    {
     "name": "stdout",
     "output_type": "stream",
     "text": [
      "There are 0 missing values in the dataset.\n",
      "There are 1 duplicated values in the dataset.\n"
     ]
    }
   ],
   "source": [
    "check_data(df_auc)"
   ]
  },
  {
   "cell_type": "code",
   "execution_count": 394,
   "metadata": {},
   "outputs": [
    {
     "data": {
      "text/plain": [
       "name                     0\n",
       "author0                  0\n",
       "author1                  0\n",
       "author2                  0\n",
       "narrator                 0\n",
       "releasedate              0\n",
       "language                 0\n",
       "price                    0\n",
       "duration_in_minutes      0\n",
       "rating_stars_out_of_5    0\n",
       "total_rating             0\n",
       "dtype: int64"
      ]
     },
     "execution_count": 394,
     "metadata": {},
     "output_type": "execute_result"
    }
   ],
   "source": [
    "df_auc.isna().sum()"
   ]
  },
  {
   "cell_type": "code",
   "execution_count": 395,
   "metadata": {},
   "outputs": [
    {
     "data": {
      "text/html": [
       "<div>\n",
       "<style scoped>\n",
       "    .dataframe tbody tr th:only-of-type {\n",
       "        vertical-align: middle;\n",
       "    }\n",
       "\n",
       "    .dataframe tbody tr th {\n",
       "        vertical-align: top;\n",
       "    }\n",
       "\n",
       "    .dataframe thead th {\n",
       "        text-align: right;\n",
       "    }\n",
       "</style>\n",
       "<table border=\"1\" class=\"dataframe\">\n",
       "  <thead>\n",
       "    <tr style=\"text-align: right;\">\n",
       "      <th></th>\n",
       "      <th>name</th>\n",
       "      <th>author0</th>\n",
       "      <th>author1</th>\n",
       "      <th>author2</th>\n",
       "      <th>narrator</th>\n",
       "      <th>releasedate</th>\n",
       "      <th>language</th>\n",
       "      <th>price</th>\n",
       "      <th>duration_in_minutes</th>\n",
       "      <th>rating_stars_out_of_5</th>\n",
       "      <th>total_rating</th>\n",
       "    </tr>\n",
       "  </thead>\n",
       "  <tbody>\n",
       "    <tr>\n",
       "      <th>14322</th>\n",
       "      <td>London</td>\n",
       "      <td>Peter Ackroyd</td>\n",
       "      <td>No Author</td>\n",
       "      <td>No Author</td>\n",
       "      <td>Simon Callow</td>\n",
       "      <td>2005-11-02</td>\n",
       "      <td>English</td>\n",
       "      <td>410.0</td>\n",
       "      <td>180</td>\n",
       "      <td>0.0</td>\n",
       "      <td>0</td>\n",
       "    </tr>\n",
       "    <tr>\n",
       "      <th>39603</th>\n",
       "      <td>London</td>\n",
       "      <td>Peter Ackroyd</td>\n",
       "      <td>No Author</td>\n",
       "      <td>No Author</td>\n",
       "      <td>Simon Callow</td>\n",
       "      <td>2005-11-02</td>\n",
       "      <td>English</td>\n",
       "      <td>410.0</td>\n",
       "      <td>180</td>\n",
       "      <td>0.0</td>\n",
       "      <td>0</td>\n",
       "    </tr>\n",
       "  </tbody>\n",
       "</table>\n",
       "</div>"
      ],
      "text/plain": [
       "         name        author0    author1    author2      narrator releasedate  \\\n",
       "14322  London  Peter Ackroyd  No Author  No Author  Simon Callow  2005-11-02   \n",
       "39603  London  Peter Ackroyd  No Author  No Author  Simon Callow  2005-11-02   \n",
       "\n",
       "      language  price  duration_in_minutes  rating_stars_out_of_5  \\\n",
       "14322  English  410.0                  180                    0.0   \n",
       "39603  English  410.0                  180                    0.0   \n",
       "\n",
       "       total_rating  \n",
       "14322             0  \n",
       "39603             0  "
      ]
     },
     "execution_count": 395,
     "metadata": {},
     "output_type": "execute_result"
    }
   ],
   "source": [
    "# find  the duplicated rows\n",
    "df_auc[df_auc.duplicated(keep=False)]"
   ]
  },
  {
   "cell_type": "code",
   "execution_count": 396,
   "metadata": {},
   "outputs": [
    {
     "name": "stdout",
     "output_type": "stream",
     "text": [
      "There are 0 missing values in the dataset.\n",
      "There are 0 duplicated values in the dataset.\n"
     ]
    }
   ],
   "source": [
    "df_auc = df_auc.drop_duplicates()\n",
    "check_data(df_auc)"
   ]
  },
  {
   "cell_type": "code",
   "execution_count": 397,
   "metadata": {},
   "outputs": [
    {
     "data": {
      "text/html": [
       "<div>\n",
       "<style scoped>\n",
       "    .dataframe tbody tr th:only-of-type {\n",
       "        vertical-align: middle;\n",
       "    }\n",
       "\n",
       "    .dataframe tbody tr th {\n",
       "        vertical-align: top;\n",
       "    }\n",
       "\n",
       "    .dataframe thead th {\n",
       "        text-align: right;\n",
       "    }\n",
       "</style>\n",
       "<table border=\"1\" class=\"dataframe\">\n",
       "  <thead>\n",
       "    <tr style=\"text-align: right;\">\n",
       "      <th></th>\n",
       "      <th>name</th>\n",
       "      <th>author0</th>\n",
       "      <th>author1</th>\n",
       "      <th>author2</th>\n",
       "      <th>narrator</th>\n",
       "      <th>releasedate</th>\n",
       "      <th>language</th>\n",
       "      <th>price</th>\n",
       "      <th>duration_in_minutes</th>\n",
       "      <th>rating_stars_out_of_5</th>\n",
       "      <th>total_rating</th>\n",
       "    </tr>\n",
       "  </thead>\n",
       "  <tbody>\n",
       "    <tr>\n",
       "      <th>0</th>\n",
       "      <td>Geronimo Stilton #11 &amp; #12</td>\n",
       "      <td>Geronimo Stilton</td>\n",
       "      <td>No Author</td>\n",
       "      <td>No Author</td>\n",
       "      <td>Bill Lobely</td>\n",
       "      <td>2008-08-04</td>\n",
       "      <td>English</td>\n",
       "      <td>468.0</td>\n",
       "      <td>140</td>\n",
       "      <td>5.0</td>\n",
       "      <td>34</td>\n",
       "    </tr>\n",
       "    <tr>\n",
       "      <th>1</th>\n",
       "      <td>The Burning Maze</td>\n",
       "      <td>Rick Riordan</td>\n",
       "      <td>No Author</td>\n",
       "      <td>No Author</td>\n",
       "      <td>Robbie Daymond</td>\n",
       "      <td>2018-05-01</td>\n",
       "      <td>English</td>\n",
       "      <td>820.0</td>\n",
       "      <td>788</td>\n",
       "      <td>4.5</td>\n",
       "      <td>41</td>\n",
       "    </tr>\n",
       "    <tr>\n",
       "      <th>2</th>\n",
       "      <td>The Deep End</td>\n",
       "      <td>Jeff Kinney</td>\n",
       "      <td>No Author</td>\n",
       "      <td>No Author</td>\n",
       "      <td>Dan Russell</td>\n",
       "      <td>2020-11-06</td>\n",
       "      <td>English</td>\n",
       "      <td>410.0</td>\n",
       "      <td>123</td>\n",
       "      <td>4.5</td>\n",
       "      <td>38</td>\n",
       "    </tr>\n",
       "    <tr>\n",
       "      <th>3</th>\n",
       "      <td>Daughter of the Deep</td>\n",
       "      <td>Rick Riordan</td>\n",
       "      <td>No Author</td>\n",
       "      <td>No Author</td>\n",
       "      <td>Soneela Nankani</td>\n",
       "      <td>2021-10-05</td>\n",
       "      <td>English</td>\n",
       "      <td>615.0</td>\n",
       "      <td>676</td>\n",
       "      <td>4.5</td>\n",
       "      <td>12</td>\n",
       "    </tr>\n",
       "    <tr>\n",
       "      <th>4</th>\n",
       "      <td>The Lightning Thief: Percy Jackson, Book 1</td>\n",
       "      <td>Rick Riordan</td>\n",
       "      <td>No Author</td>\n",
       "      <td>No Author</td>\n",
       "      <td>Jesse Bernstein</td>\n",
       "      <td>2010-01-13</td>\n",
       "      <td>English</td>\n",
       "      <td>820.0</td>\n",
       "      <td>600</td>\n",
       "      <td>4.5</td>\n",
       "      <td>181</td>\n",
       "    </tr>\n",
       "  </tbody>\n",
       "</table>\n",
       "</div>"
      ],
      "text/plain": [
       "                                         name           author0    author1  \\\n",
       "0                  Geronimo Stilton #11 & #12  Geronimo Stilton  No Author   \n",
       "1                            The Burning Maze      Rick Riordan  No Author   \n",
       "2                                The Deep End       Jeff Kinney  No Author   \n",
       "3                        Daughter of the Deep      Rick Riordan  No Author   \n",
       "4  The Lightning Thief: Percy Jackson, Book 1      Rick Riordan  No Author   \n",
       "\n",
       "     author2         narrator releasedate language  price  \\\n",
       "0  No Author      Bill Lobely  2008-08-04  English  468.0   \n",
       "1  No Author   Robbie Daymond  2018-05-01  English  820.0   \n",
       "2  No Author      Dan Russell  2020-11-06  English  410.0   \n",
       "3  No Author  Soneela Nankani  2021-10-05  English  615.0   \n",
       "4  No Author  Jesse Bernstein  2010-01-13  English  820.0   \n",
       "\n",
       "   duration_in_minutes  rating_stars_out_of_5  total_rating  \n",
       "0                  140                    5.0            34  \n",
       "1                  788                    4.5            41  \n",
       "2                  123                    4.5            38  \n",
       "3                  676                    4.5            12  \n",
       "4                  600                    4.5           181  "
      ]
     },
     "execution_count": 397,
     "metadata": {},
     "output_type": "execute_result"
    }
   ],
   "source": [
    "df_auc.head()"
   ]
  },
  {
   "cell_type": "code",
   "execution_count": 398,
   "metadata": {},
   "outputs": [
    {
     "name": "stdout",
     "output_type": "stream",
     "text": [
      "<class 'pandas.core.frame.DataFrame'>\n",
      "Index: 87488 entries, 0 to 87488\n",
      "Data columns (total 11 columns):\n",
      " #   Column                 Non-Null Count  Dtype         \n",
      "---  ------                 --------------  -----         \n",
      " 0   name                   87488 non-null  object        \n",
      " 1   author0                87488 non-null  object        \n",
      " 2   author1                87488 non-null  object        \n",
      " 3   author2                87488 non-null  object        \n",
      " 4   narrator               87488 non-null  object        \n",
      " 5   releasedate            87488 non-null  datetime64[ns]\n",
      " 6   language               87488 non-null  object        \n",
      " 7   price                  87488 non-null  float64       \n",
      " 8   duration_in_minutes    87488 non-null  int64         \n",
      " 9   rating_stars_out_of_5  87488 non-null  float64       \n",
      " 10  total_rating           87488 non-null  int64         \n",
      "dtypes: datetime64[ns](1), float64(2), int64(2), object(6)\n",
      "memory usage: 8.0+ MB\n"
     ]
    }
   ],
   "source": [
    "df_auc.info()"
   ]
  },
  {
   "cell_type": "markdown",
   "metadata": {},
   "source": [
    "TODO NEXT:\n",
    "- Add hour and minute from duration in minutes"
   ]
  },
  {
   "cell_type": "code",
   "execution_count": 399,
   "metadata": {},
   "outputs": [
    {
     "data": {
      "text/html": [
       "<div>\n",
       "<style scoped>\n",
       "    .dataframe tbody tr th:only-of-type {\n",
       "        vertical-align: middle;\n",
       "    }\n",
       "\n",
       "    .dataframe tbody tr th {\n",
       "        vertical-align: top;\n",
       "    }\n",
       "\n",
       "    .dataframe thead th {\n",
       "        text-align: right;\n",
       "    }\n",
       "</style>\n",
       "<table border=\"1\" class=\"dataframe\">\n",
       "  <thead>\n",
       "    <tr style=\"text-align: right;\">\n",
       "      <th></th>\n",
       "      <th>name</th>\n",
       "      <th>author0</th>\n",
       "      <th>author1</th>\n",
       "      <th>author2</th>\n",
       "      <th>narrator</th>\n",
       "      <th>duration_in_minutes</th>\n",
       "      <th>releasedate</th>\n",
       "      <th>language</th>\n",
       "      <th>rating_stars_out_of_5</th>\n",
       "      <th>total_rating</th>\n",
       "      <th>price</th>\n",
       "    </tr>\n",
       "  </thead>\n",
       "  <tbody>\n",
       "    <tr>\n",
       "      <th>0</th>\n",
       "      <td>Geronimo Stilton #11 &amp; #12</td>\n",
       "      <td>Geronimo Stilton</td>\n",
       "      <td>No Author</td>\n",
       "      <td>No Author</td>\n",
       "      <td>Bill Lobely</td>\n",
       "      <td>140</td>\n",
       "      <td>2008-08-04</td>\n",
       "      <td>English</td>\n",
       "      <td>5.0</td>\n",
       "      <td>34</td>\n",
       "      <td>468.0</td>\n",
       "    </tr>\n",
       "    <tr>\n",
       "      <th>1</th>\n",
       "      <td>The Burning Maze</td>\n",
       "      <td>Rick Riordan</td>\n",
       "      <td>No Author</td>\n",
       "      <td>No Author</td>\n",
       "      <td>Robbie Daymond</td>\n",
       "      <td>788</td>\n",
       "      <td>2018-05-01</td>\n",
       "      <td>English</td>\n",
       "      <td>4.5</td>\n",
       "      <td>41</td>\n",
       "      <td>820.0</td>\n",
       "    </tr>\n",
       "    <tr>\n",
       "      <th>2</th>\n",
       "      <td>The Deep End</td>\n",
       "      <td>Jeff Kinney</td>\n",
       "      <td>No Author</td>\n",
       "      <td>No Author</td>\n",
       "      <td>Dan Russell</td>\n",
       "      <td>123</td>\n",
       "      <td>2020-11-06</td>\n",
       "      <td>English</td>\n",
       "      <td>4.5</td>\n",
       "      <td>38</td>\n",
       "      <td>410.0</td>\n",
       "    </tr>\n",
       "    <tr>\n",
       "      <th>3</th>\n",
       "      <td>Daughter of the Deep</td>\n",
       "      <td>Rick Riordan</td>\n",
       "      <td>No Author</td>\n",
       "      <td>No Author</td>\n",
       "      <td>Soneela Nankani</td>\n",
       "      <td>676</td>\n",
       "      <td>2021-10-05</td>\n",
       "      <td>English</td>\n",
       "      <td>4.5</td>\n",
       "      <td>12</td>\n",
       "      <td>615.0</td>\n",
       "    </tr>\n",
       "    <tr>\n",
       "      <th>4</th>\n",
       "      <td>The Lightning Thief: Percy Jackson, Book 1</td>\n",
       "      <td>Rick Riordan</td>\n",
       "      <td>No Author</td>\n",
       "      <td>No Author</td>\n",
       "      <td>Jesse Bernstein</td>\n",
       "      <td>600</td>\n",
       "      <td>2010-01-13</td>\n",
       "      <td>English</td>\n",
       "      <td>4.5</td>\n",
       "      <td>181</td>\n",
       "      <td>820.0</td>\n",
       "    </tr>\n",
       "    <tr>\n",
       "      <th>...</th>\n",
       "      <td>...</td>\n",
       "      <td>...</td>\n",
       "      <td>...</td>\n",
       "      <td>...</td>\n",
       "      <td>...</td>\n",
       "      <td>...</td>\n",
       "      <td>...</td>\n",
       "      <td>...</td>\n",
       "      <td>...</td>\n",
       "      <td>...</td>\n",
       "      <td>...</td>\n",
       "    </tr>\n",
       "    <tr>\n",
       "      <th>87484</th>\n",
       "      <td>Last Days of the Bus Club</td>\n",
       "      <td>Chris Stewart</td>\n",
       "      <td>No Author</td>\n",
       "      <td>No Author</td>\n",
       "      <td>Chris Stewart</td>\n",
       "      <td>454</td>\n",
       "      <td>2017-03-09</td>\n",
       "      <td>English</td>\n",
       "      <td>0.0</td>\n",
       "      <td>0</td>\n",
       "      <td>596.0</td>\n",
       "    </tr>\n",
       "    <tr>\n",
       "      <th>87485</th>\n",
       "      <td>The Alps</td>\n",
       "      <td>Stephen O'Shea</td>\n",
       "      <td>No Author</td>\n",
       "      <td>No Author</td>\n",
       "      <td>Robert Fass</td>\n",
       "      <td>607</td>\n",
       "      <td>2017-02-21</td>\n",
       "      <td>English</td>\n",
       "      <td>0.0</td>\n",
       "      <td>0</td>\n",
       "      <td>820.0</td>\n",
       "    </tr>\n",
       "    <tr>\n",
       "      <th>87486</th>\n",
       "      <td>The Innocents Abroad</td>\n",
       "      <td>Mark Twain</td>\n",
       "      <td>No Author</td>\n",
       "      <td>No Author</td>\n",
       "      <td>Flo Gibson</td>\n",
       "      <td>1144</td>\n",
       "      <td>2016-12-30</td>\n",
       "      <td>English</td>\n",
       "      <td>0.0</td>\n",
       "      <td>0</td>\n",
       "      <td>938.0</td>\n",
       "    </tr>\n",
       "    <tr>\n",
       "      <th>87487</th>\n",
       "      <td>A Sentimental Journey</td>\n",
       "      <td>Laurence Sterne</td>\n",
       "      <td>No Author</td>\n",
       "      <td>No Author</td>\n",
       "      <td>Anton Lesser</td>\n",
       "      <td>248</td>\n",
       "      <td>2011-02-23</td>\n",
       "      <td>English</td>\n",
       "      <td>0.0</td>\n",
       "      <td>0</td>\n",
       "      <td>680.0</td>\n",
       "    </tr>\n",
       "    <tr>\n",
       "      <th>87488</th>\n",
       "      <td>Havana</td>\n",
       "      <td>Mark Kurlansky</td>\n",
       "      <td>No Author</td>\n",
       "      <td>No Author</td>\n",
       "      <td>Fleet Cooper</td>\n",
       "      <td>360</td>\n",
       "      <td>2017-03-07</td>\n",
       "      <td>English</td>\n",
       "      <td>0.0</td>\n",
       "      <td>0</td>\n",
       "      <td>569.0</td>\n",
       "    </tr>\n",
       "  </tbody>\n",
       "</table>\n",
       "<p>87488 rows × 11 columns</p>\n",
       "</div>"
      ],
      "text/plain": [
       "                                             name           author0  \\\n",
       "0                      Geronimo Stilton #11 & #12  Geronimo Stilton   \n",
       "1                                The Burning Maze      Rick Riordan   \n",
       "2                                    The Deep End       Jeff Kinney   \n",
       "3                            Daughter of the Deep      Rick Riordan   \n",
       "4      The Lightning Thief: Percy Jackson, Book 1      Rick Riordan   \n",
       "...                                           ...               ...   \n",
       "87484                   Last Days of the Bus Club     Chris Stewart   \n",
       "87485                                    The Alps    Stephen O'Shea   \n",
       "87486                        The Innocents Abroad        Mark Twain   \n",
       "87487                       A Sentimental Journey   Laurence Sterne   \n",
       "87488                                      Havana    Mark Kurlansky   \n",
       "\n",
       "         author1    author2         narrator  duration_in_minutes releasedate  \\\n",
       "0      No Author  No Author      Bill Lobely                  140  2008-08-04   \n",
       "1      No Author  No Author   Robbie Daymond                  788  2018-05-01   \n",
       "2      No Author  No Author      Dan Russell                  123  2020-11-06   \n",
       "3      No Author  No Author  Soneela Nankani                  676  2021-10-05   \n",
       "4      No Author  No Author  Jesse Bernstein                  600  2010-01-13   \n",
       "...          ...        ...              ...                  ...         ...   \n",
       "87484  No Author  No Author    Chris Stewart                  454  2017-03-09   \n",
       "87485  No Author  No Author      Robert Fass                  607  2017-02-21   \n",
       "87486  No Author  No Author       Flo Gibson                 1144  2016-12-30   \n",
       "87487  No Author  No Author     Anton Lesser                  248  2011-02-23   \n",
       "87488  No Author  No Author     Fleet Cooper                  360  2017-03-07   \n",
       "\n",
       "      language  rating_stars_out_of_5  total_rating  price  \n",
       "0      English                    5.0            34  468.0  \n",
       "1      English                    4.5            41  820.0  \n",
       "2      English                    4.5            38  410.0  \n",
       "3      English                    4.5            12  615.0  \n",
       "4      English                    4.5           181  820.0  \n",
       "...        ...                    ...           ...    ...  \n",
       "87484  English                    0.0             0  596.0  \n",
       "87485  English                    0.0             0  820.0  \n",
       "87486  English                    0.0             0  938.0  \n",
       "87487  English                    0.0             0  680.0  \n",
       "87488  English                    0.0             0  569.0  \n",
       "\n",
       "[87488 rows x 11 columns]"
      ]
     },
     "execution_count": 399,
     "metadata": {},
     "output_type": "execute_result"
    }
   ],
   "source": [
    "clean_df_auc = df_auc.copy()\n",
    "clean_df_auc = clean_df_auc[['name', 'author0', 'author1',\n",
    "                            'author2', 'narrator', 'duration_in_minutes',\n",
    "                            'releasedate', 'language', 'rating_stars_out_of_5',\n",
    "                            'total_rating', 'price']]\n",
    "\n",
    "clean_df_auc"
   ]
  },
  {
   "cell_type": "code",
   "execution_count": 400,
   "metadata": {},
   "outputs": [],
   "source": [
    "# submit our clean dataset\n",
    "clean_df_auc.to_csv('clean_dataset/clean_auc.csv', index=False)"
   ]
  },
  {
   "cell_type": "markdown",
   "metadata": {},
   "source": [
    "## 2. Data CHN.csv"
   ]
  },
  {
   "cell_type": "code",
   "execution_count": 401,
   "metadata": {},
   "outputs": [
    {
     "data": {
      "text/html": [
       "<div>\n",
       "<style scoped>\n",
       "    .dataframe tbody tr th:only-of-type {\n",
       "        vertical-align: middle;\n",
       "    }\n",
       "\n",
       "    .dataframe tbody tr th {\n",
       "        vertical-align: top;\n",
       "    }\n",
       "\n",
       "    .dataframe thead th {\n",
       "        text-align: right;\n",
       "    }\n",
       "</style>\n",
       "<table border=\"1\" class=\"dataframe\">\n",
       "  <thead>\n",
       "    <tr style=\"text-align: right;\">\n",
       "      <th></th>\n",
       "      <th>Unnamed: 0</th>\n",
       "      <th>customerID</th>\n",
       "      <th>gender</th>\n",
       "      <th>SeniorCitizen</th>\n",
       "      <th>Partner</th>\n",
       "      <th>Dependents</th>\n",
       "      <th>tenure</th>\n",
       "      <th>PhoneService</th>\n",
       "      <th>MultipleLines</th>\n",
       "      <th>InternetService</th>\n",
       "      <th>...</th>\n",
       "      <th>DeviceProtection</th>\n",
       "      <th>TechSupport</th>\n",
       "      <th>StreamingTV</th>\n",
       "      <th>StreamingMovies</th>\n",
       "      <th>Contract</th>\n",
       "      <th>PaperlessBilling</th>\n",
       "      <th>PaymentMethod</th>\n",
       "      <th>MonthlyCharges</th>\n",
       "      <th>TotalCharges</th>\n",
       "      <th>Churn</th>\n",
       "    </tr>\n",
       "  </thead>\n",
       "  <tbody>\n",
       "    <tr>\n",
       "      <th>0</th>\n",
       "      <td>0</td>\n",
       "      <td>7590-VHVEG</td>\n",
       "      <td>Female</td>\n",
       "      <td>0.0</td>\n",
       "      <td>Yes</td>\n",
       "      <td>No</td>\n",
       "      <td>1.0</td>\n",
       "      <td>No</td>\n",
       "      <td>No phone service</td>\n",
       "      <td>DSL</td>\n",
       "      <td>...</td>\n",
       "      <td>No</td>\n",
       "      <td>No</td>\n",
       "      <td>No</td>\n",
       "      <td>No</td>\n",
       "      <td>Month-to-month</td>\n",
       "      <td>Yes</td>\n",
       "      <td>Electronic check</td>\n",
       "      <td>29.85</td>\n",
       "      <td>29.85</td>\n",
       "      <td>No</td>\n",
       "    </tr>\n",
       "    <tr>\n",
       "      <th>1</th>\n",
       "      <td>1</td>\n",
       "      <td>5575-GNVDE</td>\n",
       "      <td>Male</td>\n",
       "      <td>0.0</td>\n",
       "      <td>No</td>\n",
       "      <td>No</td>\n",
       "      <td>34.0</td>\n",
       "      <td>Yes</td>\n",
       "      <td>No</td>\n",
       "      <td>DSL</td>\n",
       "      <td>...</td>\n",
       "      <td>Yes</td>\n",
       "      <td>No</td>\n",
       "      <td>No</td>\n",
       "      <td>No</td>\n",
       "      <td>One year</td>\n",
       "      <td>No</td>\n",
       "      <td>Mailed check</td>\n",
       "      <td>56.95</td>\n",
       "      <td>1889.5</td>\n",
       "      <td>No</td>\n",
       "    </tr>\n",
       "    <tr>\n",
       "      <th>2</th>\n",
       "      <td>2</td>\n",
       "      <td>3668-QPYBK</td>\n",
       "      <td>Male</td>\n",
       "      <td>0.0</td>\n",
       "      <td>No</td>\n",
       "      <td>No</td>\n",
       "      <td>2.0</td>\n",
       "      <td>Yes</td>\n",
       "      <td>No</td>\n",
       "      <td>DSL</td>\n",
       "      <td>...</td>\n",
       "      <td>No</td>\n",
       "      <td>No</td>\n",
       "      <td>No</td>\n",
       "      <td>No</td>\n",
       "      <td>Month-to-month</td>\n",
       "      <td>Yes</td>\n",
       "      <td>Mailed check</td>\n",
       "      <td>53.85</td>\n",
       "      <td>108.15</td>\n",
       "      <td>Yes</td>\n",
       "    </tr>\n",
       "    <tr>\n",
       "      <th>3</th>\n",
       "      <td>3</td>\n",
       "      <td>7795-CFOCW</td>\n",
       "      <td>Male</td>\n",
       "      <td>0.0</td>\n",
       "      <td>No</td>\n",
       "      <td>No</td>\n",
       "      <td>45.0</td>\n",
       "      <td>No</td>\n",
       "      <td>No phone service</td>\n",
       "      <td>DSL</td>\n",
       "      <td>...</td>\n",
       "      <td>Yes</td>\n",
       "      <td>Yes</td>\n",
       "      <td>No</td>\n",
       "      <td>No</td>\n",
       "      <td>One year</td>\n",
       "      <td>No</td>\n",
       "      <td>Bank transfer (automatic)</td>\n",
       "      <td>42.3</td>\n",
       "      <td>1840.75</td>\n",
       "      <td>No</td>\n",
       "    </tr>\n",
       "    <tr>\n",
       "      <th>4</th>\n",
       "      <td>4</td>\n",
       "      <td>9237-HQITU</td>\n",
       "      <td>Female</td>\n",
       "      <td>0.0</td>\n",
       "      <td>No</td>\n",
       "      <td>No</td>\n",
       "      <td>NaN</td>\n",
       "      <td>Yes</td>\n",
       "      <td>No</td>\n",
       "      <td>Fiber optic</td>\n",
       "      <td>...</td>\n",
       "      <td>No</td>\n",
       "      <td>No</td>\n",
       "      <td>No</td>\n",
       "      <td>No</td>\n",
       "      <td>Month-to-month</td>\n",
       "      <td>Yes</td>\n",
       "      <td>Electronic check</td>\n",
       "      <td>70.7</td>\n",
       "      <td>151.65</td>\n",
       "      <td>Yes</td>\n",
       "    </tr>\n",
       "  </tbody>\n",
       "</table>\n",
       "<p>5 rows × 22 columns</p>\n",
       "</div>"
      ],
      "text/plain": [
       "   Unnamed: 0  customerID  gender SeniorCitizen Partner Dependents tenure  \\\n",
       "0           0  7590-VHVEG  Female           0.0     Yes         No    1.0   \n",
       "1           1  5575-GNVDE    Male           0.0      No         No   34.0   \n",
       "2           2  3668-QPYBK    Male           0.0      No         No    2.0   \n",
       "3           3  7795-CFOCW    Male           0.0      No         No   45.0   \n",
       "4           4  9237-HQITU  Female           0.0      No         No    NaN   \n",
       "\n",
       "  PhoneService     MultipleLines InternetService  ... DeviceProtection  \\\n",
       "0           No  No phone service             DSL  ...               No   \n",
       "1          Yes                No             DSL  ...              Yes   \n",
       "2          Yes                No             DSL  ...               No   \n",
       "3           No  No phone service             DSL  ...              Yes   \n",
       "4          Yes                No     Fiber optic  ...               No   \n",
       "\n",
       "  TechSupport StreamingTV StreamingMovies        Contract PaperlessBilling  \\\n",
       "0          No          No              No  Month-to-month              Yes   \n",
       "1          No          No              No        One year               No   \n",
       "2          No          No              No  Month-to-month              Yes   \n",
       "3         Yes          No              No        One year               No   \n",
       "4          No          No              No  Month-to-month              Yes   \n",
       "\n",
       "               PaymentMethod MonthlyCharges TotalCharges Churn  \n",
       "0           Electronic check          29.85        29.85    No  \n",
       "1               Mailed check          56.95       1889.5    No  \n",
       "2               Mailed check          53.85       108.15   Yes  \n",
       "3  Bank transfer (automatic)           42.3      1840.75    No  \n",
       "4           Electronic check           70.7       151.65   Yes  \n",
       "\n",
       "[5 rows x 22 columns]"
      ]
     },
     "execution_count": 401,
     "metadata": {},
     "output_type": "execute_result"
    }
   ],
   "source": [
    "df_chn = pd.read_csv('dataset/CHN.csv')\n",
    "df_chn.head()"
   ]
  },
  {
   "cell_type": "code",
   "execution_count": 402,
   "metadata": {},
   "outputs": [
    {
     "name": "stdout",
     "output_type": "stream",
     "text": [
      "<class 'pandas.core.frame.DataFrame'>\n",
      "RangeIndex: 11234 entries, 0 to 11233\n",
      "Data columns (total 22 columns):\n",
      " #   Column            Non-Null Count  Dtype \n",
      "---  ------            --------------  ----- \n",
      " 0   Unnamed: 0        11234 non-null  int64 \n",
      " 1   customerID        11234 non-null  object\n",
      " 2   gender            11234 non-null  object\n",
      " 3   SeniorCitizen     9508 non-null   object\n",
      " 4   Partner           11234 non-null  object\n",
      " 5   Dependents        11234 non-null  object\n",
      " 6   tenure            9526 non-null   object\n",
      " 7   PhoneService      11234 non-null  object\n",
      " 8   MultipleLines     11234 non-null  object\n",
      " 9   InternetService   11234 non-null  object\n",
      " 10  OnlineSecurity    11234 non-null  object\n",
      " 11  OnlineBackup      11234 non-null  object\n",
      " 12  DeviceProtection  11234 non-null  object\n",
      " 13  TechSupport       11234 non-null  object\n",
      " 14  StreamingTV       11234 non-null  object\n",
      " 15  StreamingMovies   11234 non-null  object\n",
      " 16  Contract          11234 non-null  object\n",
      " 17  PaperlessBilling  11234 non-null  object\n",
      " 18  PaymentMethod     11234 non-null  object\n",
      " 19  MonthlyCharges    9518 non-null   object\n",
      " 20  TotalCharges      11234 non-null  object\n",
      " 21  Churn             11234 non-null  object\n",
      "dtypes: int64(1), object(21)\n",
      "memory usage: 1.9+ MB\n"
     ]
    }
   ],
   "source": [
    "df_chn.info()"
   ]
  },
  {
   "cell_type": "markdown",
   "metadata": {},
   "source": [
    "**TODO**:\n",
    "- Corrected some feature data types\n",
    "- Drop unnecessary columns\n",
    "- Check missing & duplicated values\n",
    "- Encode variables (after splitting between train & test set):\n",
    "    - Target: Label Encoding\n",
    "    - Feature: Basic vs Monotonic encoding method <br>\n",
    "    *NOTE*: Compare model performance with other encoding method\n",
    "- Feature Scaling\n"
   ]
  },
  {
   "cell_type": "markdown",
   "metadata": {},
   "source": [
    "Corrected some feature data types"
   ]
  },
  {
   "cell_type": "code",
   "execution_count": 403,
   "metadata": {},
   "outputs": [
    {
     "name": "stdout",
     "output_type": "stream",
     "text": [
      "<class 'pandas.core.frame.DataFrame'>\n",
      "RangeIndex: 11234 entries, 0 to 11233\n",
      "Data columns (total 22 columns):\n",
      " #   Column            Non-Null Count  Dtype  \n",
      "---  ------            --------------  -----  \n",
      " 0   Unnamed: 0        11234 non-null  int64  \n",
      " 1   customerID        11234 non-null  object \n",
      " 2   gender            11234 non-null  object \n",
      " 3   SeniorCitizen     9508 non-null   object \n",
      " 4   Partner           11234 non-null  object \n",
      " 5   Dependents        11234 non-null  object \n",
      " 6   tenure            9526 non-null   float64\n",
      " 7   PhoneService      11234 non-null  object \n",
      " 8   MultipleLines     11234 non-null  object \n",
      " 9   InternetService   11234 non-null  object \n",
      " 10  OnlineSecurity    11234 non-null  object \n",
      " 11  OnlineBackup      11234 non-null  object \n",
      " 12  DeviceProtection  11234 non-null  object \n",
      " 13  TechSupport       11234 non-null  object \n",
      " 14  StreamingTV       11234 non-null  object \n",
      " 15  StreamingMovies   11234 non-null  object \n",
      " 16  Contract          11234 non-null  object \n",
      " 17  PaperlessBilling  11234 non-null  object \n",
      " 18  PaymentMethod     11234 non-null  object \n",
      " 19  MonthlyCharges    9518 non-null   float64\n",
      " 20  TotalCharges      11234 non-null  float64\n",
      " 21  Churn             11234 non-null  object \n",
      "dtypes: float64(3), int64(1), object(18)\n",
      "memory usage: 1.9+ MB\n"
     ]
    }
   ],
   "source": [
    "col = ['tenure', 'MonthlyCharges', 'TotalCharges']\n",
    "\n",
    "# replacing '-' and ' ' with 0\n",
    "df_chn[col] = df_chn[col].replace('-', '0').replace(' ', '0')\n",
    "\n",
    "# convert to float\n",
    "df_chn[col] = df_chn[col].astype('float')\n",
    "\n",
    "df_chn.info()"
   ]
  },
  {
   "cell_type": "code",
   "execution_count": 404,
   "metadata": {},
   "outputs": [
    {
     "data": {
      "text/plain": [
       "Churn\n",
       "No     8136\n",
       "Yes    2873\n",
       "nO      166\n",
       "yeS      59\n",
       "Name: count, dtype: int64"
      ]
     },
     "execution_count": 404,
     "metadata": {},
     "output_type": "execute_result"
    }
   ],
   "source": [
    "df_chn.Churn.value_counts()"
   ]
  },
  {
   "cell_type": "code",
   "execution_count": 405,
   "metadata": {},
   "outputs": [
    {
     "data": {
      "text/plain": [
       "Churn\n",
       "No     8302\n",
       "Yes    2932\n",
       "Name: count, dtype: int64"
      ]
     },
     "execution_count": 405,
     "metadata": {},
     "output_type": "execute_result"
    }
   ],
   "source": [
    "# Turning nO and yeS into No & Yes\n",
    "df_chn['Churn'] = df_chn['Churn'].replace('nO', 'No').replace('yeS', 'Yes')\n",
    "\n",
    "df_chn.Churn.value_counts()"
   ]
  },
  {
   "cell_type": "markdown",
   "metadata": {},
   "source": [
    "Dropping unnecessary columns"
   ]
  },
  {
   "cell_type": "code",
   "execution_count": 406,
   "metadata": {},
   "outputs": [
    {
     "data": {
      "text/plain": [
       "Index(['gender', 'SeniorCitizen', 'Partner', 'Dependents', 'tenure',\n",
       "       'PhoneService', 'MultipleLines', 'InternetService', 'OnlineSecurity',\n",
       "       'OnlineBackup', 'DeviceProtection', 'TechSupport', 'StreamingTV',\n",
       "       'StreamingMovies', 'Contract', 'PaperlessBilling', 'PaymentMethod',\n",
       "       'MonthlyCharges', 'TotalCharges', 'Churn'],\n",
       "      dtype='object')"
      ]
     },
     "execution_count": 406,
     "metadata": {},
     "output_type": "execute_result"
    }
   ],
   "source": [
    "df_chn.drop(['Unnamed: 0', 'customerID'], axis=1, inplace=True)\n",
    "df_chn.columns"
   ]
  },
  {
   "cell_type": "markdown",
   "metadata": {},
   "source": [
    "Check missing & duplicated values"
   ]
  },
  {
   "cell_type": "code",
   "execution_count": 407,
   "metadata": {},
   "outputs": [
    {
     "name": "stdout",
     "output_type": "stream",
     "text": [
      "There are 5150 missing values in the dataset.\n",
      "There are 4 duplicated values in the dataset.\n"
     ]
    }
   ],
   "source": [
    "check_data(df_chn)"
   ]
  },
  {
   "cell_type": "markdown",
   "metadata": {},
   "source": [
    "Removing duplicated values"
   ]
  },
  {
   "cell_type": "code",
   "execution_count": 408,
   "metadata": {},
   "outputs": [],
   "source": [
    "# dropping duplicated values\n",
    "df_chn = df_chn.drop_duplicates()"
   ]
  },
  {
   "cell_type": "markdown",
   "metadata": {},
   "source": [
    "Handling missing values"
   ]
  },
  {
   "cell_type": "code",
   "execution_count": 409,
   "metadata": {},
   "outputs": [
    {
     "data": {
      "text/plain": [
       "((7861, 19), (3369, 19))"
      ]
     },
     "execution_count": 409,
     "metadata": {},
     "output_type": "execute_result"
    }
   ],
   "source": [
    "# split into train and test set\n",
    "X = df_chn.drop(['Churn'], axis=1)\n",
    "y = df_chn['Churn']\n",
    "\n",
    "X_train, X_test, y_train, y_test = train_test_split(X, y, test_size=0.3, random_state=42)\n",
    "\n",
    "X_train.shape, X_test.shape"
   ]
  },
  {
   "cell_type": "code",
   "execution_count": 410,
   "metadata": {},
   "outputs": [
    {
     "data": {
      "text/plain": [
       "gender                 0\n",
       "SeniorCitizen       1199\n",
       "Partner                0\n",
       "Dependents             0\n",
       "tenure              1223\n",
       "PhoneService           0\n",
       "MultipleLines          0\n",
       "InternetService        0\n",
       "OnlineSecurity         0\n",
       "OnlineBackup           0\n",
       "DeviceProtection       0\n",
       "TechSupport            0\n",
       "StreamingTV            0\n",
       "StreamingMovies        0\n",
       "Contract               0\n",
       "PaperlessBilling       0\n",
       "PaymentMethod          0\n",
       "MonthlyCharges      1212\n",
       "TotalCharges           0\n",
       "dtype: int64"
      ]
     },
     "execution_count": 410,
     "metadata": {},
     "output_type": "execute_result"
    }
   ],
   "source": [
    "X_train.isna().sum()"
   ]
  },
  {
   "cell_type": "code",
   "execution_count": 411,
   "metadata": {},
   "outputs": [
    {
     "data": {
      "text/plain": [
       "gender                0\n",
       "SeniorCitizen       527\n",
       "Partner               0\n",
       "Dependents            0\n",
       "tenure              485\n",
       "PhoneService          0\n",
       "MultipleLines         0\n",
       "InternetService       0\n",
       "OnlineSecurity        0\n",
       "OnlineBackup          0\n",
       "DeviceProtection      0\n",
       "TechSupport           0\n",
       "StreamingTV           0\n",
       "StreamingMovies       0\n",
       "Contract              0\n",
       "PaperlessBilling      0\n",
       "PaymentMethod         0\n",
       "MonthlyCharges      504\n",
       "TotalCharges          0\n",
       "dtype: int64"
      ]
     },
     "execution_count": 411,
     "metadata": {},
     "output_type": "execute_result"
    }
   ],
   "source": [
    "X_test.isna().sum()"
   ]
  },
  {
   "cell_type": "code",
   "execution_count": 412,
   "metadata": {},
   "outputs": [],
   "source": [
    "# Apparently there are 3 columns with too many missing values, lets remove them\n",
    "X_train = X_train.drop(['SeniorCitizen', 'tenure', 'MonthlyCharges'], axis=1)\n",
    "X_test = X_test.drop(['SeniorCitizen', 'tenure', 'MonthlyCharges'], axis=1)"
   ]
  },
  {
   "cell_type": "code",
   "execution_count": 413,
   "metadata": {},
   "outputs": [
    {
     "data": {
      "text/plain": [
       "gender              0\n",
       "Partner             0\n",
       "Dependents          0\n",
       "PhoneService        0\n",
       "MultipleLines       0\n",
       "InternetService     0\n",
       "OnlineSecurity      0\n",
       "OnlineBackup        0\n",
       "DeviceProtection    0\n",
       "TechSupport         0\n",
       "StreamingTV         0\n",
       "StreamingMovies     0\n",
       "Contract            0\n",
       "PaperlessBilling    0\n",
       "PaymentMethod       0\n",
       "TotalCharges        0\n",
       "dtype: int64"
      ]
     },
     "execution_count": 413,
     "metadata": {},
     "output_type": "execute_result"
    }
   ],
   "source": [
    "X_train.isna().sum()"
   ]
  },
  {
   "cell_type": "code",
   "execution_count": 414,
   "metadata": {},
   "outputs": [
    {
     "data": {
      "text/plain": [
       "gender              0\n",
       "Partner             0\n",
       "Dependents          0\n",
       "PhoneService        0\n",
       "MultipleLines       0\n",
       "InternetService     0\n",
       "OnlineSecurity      0\n",
       "OnlineBackup        0\n",
       "DeviceProtection    0\n",
       "TechSupport         0\n",
       "StreamingTV         0\n",
       "StreamingMovies     0\n",
       "Contract            0\n",
       "PaperlessBilling    0\n",
       "PaymentMethod       0\n",
       "TotalCharges        0\n",
       "dtype: int64"
      ]
     },
     "execution_count": 414,
     "metadata": {},
     "output_type": "execute_result"
    }
   ],
   "source": [
    "X_test.isna().sum()"
   ]
  },
  {
   "cell_type": "markdown",
   "metadata": {},
   "source": [
    "Encode variables: *Basic Encoding*"
   ]
  },
  {
   "cell_type": "code",
   "execution_count": 415,
   "metadata": {},
   "outputs": [
    {
     "data": {
      "text/plain": [
       "((7861,), (3369,))"
      ]
     },
     "execution_count": 415,
     "metadata": {},
     "output_type": "execute_result"
    }
   ],
   "source": [
    "# FOR TARGET VARIABLE, USE LABEL ENCODING\n",
    "le = LabelEncoder()\n",
    "\n",
    "y_train = le.fit_transform(y_train)\n",
    "y_test = le.transform(y_test)\n",
    "\n",
    "y_train.shape, y_test.shape"
   ]
  },
  {
   "cell_type": "code",
   "execution_count": 416,
   "metadata": {},
   "outputs": [
    {
     "data": {
      "text/plain": [
       "((7861, 46), (3369, 46))"
      ]
     },
     "execution_count": 416,
     "metadata": {},
     "output_type": "execute_result"
    }
   ],
   "source": [
    "# One hot encoding\n",
    "X_train_ohe = pd.get_dummies(X_train, drop_first=True)\n",
    "X_test_ohe = pd.get_dummies(X_test, drop_first=True)\n",
    "\n",
    "X_train_ohe.shape, X_test_ohe.shape"
   ]
  },
  {
   "cell_type": "code",
   "execution_count": 417,
   "metadata": {},
   "outputs": [
    {
     "data": {
      "text/plain": [
       "((7861, 16), (3369, 16))"
      ]
     },
     "execution_count": 417,
     "metadata": {},
     "output_type": "execute_result"
    }
   ],
   "source": [
    "# Count encoding\n",
    "enc = CountFrequencyEncoder()\n",
    "\n",
    "X_train_count = enc.fit_transform(X_train)\n",
    "X_test_count = enc.transform(X_test)\n",
    "\n",
    "X_train_count.shape, X_test_count.shape"
   ]
  },
  {
   "cell_type": "markdown",
   "metadata": {},
   "source": [
    "Encode variables: *Monotonic Encoding*"
   ]
  },
  {
   "cell_type": "code",
   "execution_count": 418,
   "metadata": {},
   "outputs": [
    {
     "data": {
      "text/plain": [
       "((7861, 16), (3369, 16))"
      ]
     },
     "execution_count": 418,
     "metadata": {},
     "output_type": "execute_result"
    }
   ],
   "source": [
    "# Mean Integer Encoding\n",
    "enc = MeanEncoder()\n",
    "\n",
    "X_train_mean = enc.fit_transform(X_train, y_train)\n",
    "X_test_mean = enc.transform(X_test)\n",
    "\n",
    "X_train_mean.shape, X_test_mean.shape"
   ]
  },
  {
   "cell_type": "code",
   "execution_count": 419,
   "metadata": {},
   "outputs": [
    {
     "data": {
      "text/plain": [
       "((7861, 16), (3369, 16))"
      ]
     },
     "execution_count": 419,
     "metadata": {},
     "output_type": "execute_result"
    }
   ],
   "source": [
    "# Ordered Integer Encoding\n",
    "enc = OrdinalEncoder()\n",
    "\n",
    "X_train_ordered = enc.fit_transform(X_train, y_train)\n",
    "X_test_ordered = enc.transform(X_test)\n",
    "\n",
    "X_train_ordered.shape, X_test_ordered.shape"
   ]
  },
  {
   "cell_type": "code",
   "execution_count": 420,
   "metadata": {},
   "outputs": [
    {
     "data": {
      "text/plain": [
       "((7861, 16), (3369, 16))"
      ]
     },
     "execution_count": 420,
     "metadata": {},
     "output_type": "execute_result"
    }
   ],
   "source": [
    "# Weight of evidence\n",
    "enc = WoEEncoder()\n",
    "\n",
    "X_train_woe = enc.fit_transform(X_train, y_train)\n",
    "X_test_woe = enc.transform(X_test)\n",
    "\n",
    "X_train_woe.shape, X_test_woe.shape"
   ]
  },
  {
   "cell_type": "markdown",
   "metadata": {},
   "source": [
    "Logistic Regression Performance"
   ]
  },
  {
   "cell_type": "code",
   "execution_count": 421,
   "metadata": {},
   "outputs": [],
   "source": [
    "def run_logistic(X_train, X_test, y_train, y_test):\n",
    "\n",
    "    # function to train and test the performance of logistic regression\n",
    "    logit = LogisticRegression(random_state=42)\n",
    "    logit.fit(X_train, y_train)\n",
    "\n",
    "    print(\"Train set\")\n",
    "    pred = logit.predict_proba(X_train)\n",
    "    print(\"Logistic Regression roc-auc: {}\".format(roc_auc_score(y_train, pred[:, 1])))\n",
    "\n",
    "    print(\"Test set\")\n",
    "    pred = logit.predict_proba(X_test)\n",
    "    print(\"Logistic Regression roc-auc: {}\".format(roc_auc_score(y_test, pred[:, 1])))"
   ]
  },
  {
   "cell_type": "code",
   "execution_count": 424,
   "metadata": {},
   "outputs": [
    {
     "name": "stdout",
     "output_type": "stream",
     "text": [
      "One Hot Encoding roc-auc score (Logistic Regression):\n",
      "Train set\n",
      "Logistic Regression roc-auc: 0.8395418823350569\n",
      "Test set\n",
      "Logistic Regression roc-auc: 0.8330516260688101\n"
     ]
    }
   ],
   "source": [
    "print('One Hot Encoding roc-auc score (Logistic Regression):')\n",
    "run_logistic(X_train_ohe, X_test_ohe, y_train, y_test)"
   ]
  },
  {
   "cell_type": "code",
   "execution_count": 425,
   "metadata": {},
   "outputs": [
    {
     "name": "stdout",
     "output_type": "stream",
     "text": [
      "Count Encoding roc-auc score (Logistic Regression):\n",
      "Train set\n",
      "Logistic Regression roc-auc: 0.8338497402791571\n",
      "Test set\n",
      "Logistic Regression roc-auc: 0.8242629134425381\n"
     ]
    }
   ],
   "source": [
    "print('Count Encoding roc-auc score (Logistic Regression):')\n",
    "run_logistic(X_train_count, X_test_count, y_train, y_test)"
   ]
  },
  {
   "cell_type": "code",
   "execution_count": 426,
   "metadata": {},
   "outputs": [
    {
     "name": "stdout",
     "output_type": "stream",
     "text": [
      "Mean Encoding roc-auc score (Logistic Regression):\n",
      "Train set\n",
      "Logistic Regression roc-auc: 0.8383174065167838\n",
      "Test set\n",
      "Logistic Regression roc-auc: 0.83082813163678\n"
     ]
    }
   ],
   "source": [
    "print('Mean Encoding roc-auc score (Logistic Regression):')\n",
    "run_logistic(X_train_mean, X_test_mean, y_train, y_test)"
   ]
  },
  {
   "cell_type": "code",
   "execution_count": 427,
   "metadata": {},
   "outputs": [
    {
     "name": "stdout",
     "output_type": "stream",
     "text": [
      "Ordinal Encoding roc-auc score (Logistic Regression):\n",
      "Train set\n",
      "Logistic Regression roc-auc: 0.8164189177337676\n",
      "Test set\n",
      "Logistic Regression roc-auc: 0.8148924726218398\n"
     ]
    }
   ],
   "source": [
    "print('Ordinal Encoding roc-auc score (Logistic Regression):')\n",
    "run_logistic(X_train_ordered, X_test_ordered, y_train, y_test)"
   ]
  },
  {
   "cell_type": "code",
   "execution_count": 428,
   "metadata": {},
   "outputs": [
    {
     "name": "stdout",
     "output_type": "stream",
     "text": [
      "Weight of Evidence Encoding roc-auc score (Logistic Regression):\n",
      "Train set\n",
      "Logistic Regression roc-auc: 0.8397626387871509\n",
      "Test set\n",
      "Logistic Regression roc-auc: 0.8329486694121775\n"
     ]
    }
   ],
   "source": [
    "print('Weight of Evidence Encoding roc-auc score (Logistic Regression):')\n",
    "run_logistic(X_train_woe, X_test_woe, y_train, y_test)"
   ]
  },
  {
   "cell_type": "markdown",
   "metadata": {},
   "source": [
    "One Hot Encoding & WoE Encoding have the highest score on the test set for this dataset"
   ]
  },
  {
   "cell_type": "markdown",
   "metadata": {},
   "source": [
    "Feature Scaling"
   ]
  },
  {
   "cell_type": "code",
   "execution_count": 438,
   "metadata": {},
   "outputs": [
    {
     "data": {
      "image/png": "[encoded data removed]",
      "text/plain": [
       "<Figure size 2000x1500 with 16 Axes>"
      ]
     },
     "metadata": {},
     "output_type": "display_data"
    }
   ],
   "source": [
    "X_train_woe.hist(bins=50, figsize=(20, 15));"
   ]
  },
  {
   "cell_type": "markdown",
   "metadata": {},
   "source": [
    "Use min Max Scaler because it's not in normal distribution"
   ]
  },
  {
   "cell_type": "code",
   "execution_count": 444,
   "metadata": {},
   "outputs": [
    {
     "data": {
      "text/html": [
       "<div>\n",
       "<style scoped>\n",
       "    .dataframe tbody tr th:only-of-type {\n",
       "        vertical-align: middle;\n",
       "    }\n",
       "\n",
       "    .dataframe tbody tr th {\n",
       "        vertical-align: top;\n",
       "    }\n",
       "\n",
       "    .dataframe thead th {\n",
       "        text-align: right;\n",
       "    }\n",
       "</style>\n",
       "<table border=\"1\" class=\"dataframe\">\n",
       "  <thead>\n",
       "    <tr style=\"text-align: right;\">\n",
       "      <th></th>\n",
       "      <th>gender</th>\n",
       "      <th>Partner</th>\n",
       "      <th>Dependents</th>\n",
       "      <th>PhoneService</th>\n",
       "      <th>MultipleLines</th>\n",
       "      <th>InternetService</th>\n",
       "      <th>OnlineSecurity</th>\n",
       "      <th>OnlineBackup</th>\n",
       "      <th>DeviceProtection</th>\n",
       "      <th>TechSupport</th>\n",
       "      <th>StreamingTV</th>\n",
       "      <th>StreamingMovies</th>\n",
       "      <th>Contract</th>\n",
       "      <th>PaperlessBilling</th>\n",
       "      <th>PaymentMethod</th>\n",
       "      <th>TotalCharges</th>\n",
       "    </tr>\n",
       "  </thead>\n",
       "  <tbody>\n",
       "    <tr>\n",
       "      <th>473</th>\n",
       "      <td>-0.021140</td>\n",
       "      <td>-0.356590</td>\n",
       "      <td>0.23985</td>\n",
       "      <td>0.013731</td>\n",
       "      <td>-0.063972</td>\n",
       "      <td>-0.401065</td>\n",
       "      <td>-0.703043</td>\n",
       "      <td>0.637831</td>\n",
       "      <td>0.574370</td>\n",
       "      <td>-0.706695</td>\n",
       "      <td>0.354180</td>\n",
       "      <td>0.378975</td>\n",
       "      <td>0.738939</td>\n",
       "      <td>-0.593439</td>\n",
       "      <td>-0.420685</td>\n",
       "      <td>1315.35</td>\n",
       "    </tr>\n",
       "    <tr>\n",
       "      <th>8632</th>\n",
       "      <td>0.021724</td>\n",
       "      <td>0.290063</td>\n",
       "      <td>0.23985</td>\n",
       "      <td>0.013731</td>\n",
       "      <td>-0.063972</td>\n",
       "      <td>0.683696</td>\n",
       "      <td>0.682217</td>\n",
       "      <td>0.637831</td>\n",
       "      <td>-0.210898</td>\n",
       "      <td>0.690625</td>\n",
       "      <td>0.354180</td>\n",
       "      <td>0.378975</td>\n",
       "      <td>0.738939</td>\n",
       "      <td>-0.593439</td>\n",
       "      <td>0.804534</td>\n",
       "      <td>434.10</td>\n",
       "    </tr>\n",
       "    <tr>\n",
       "      <th>4193</th>\n",
       "      <td>-0.021140</td>\n",
       "      <td>0.290063</td>\n",
       "      <td>0.23985</td>\n",
       "      <td>0.013731</td>\n",
       "      <td>-0.063972</td>\n",
       "      <td>-1.528553</td>\n",
       "      <td>-1.528553</td>\n",
       "      <td>-1.528553</td>\n",
       "      <td>-1.528553</td>\n",
       "      <td>-1.528553</td>\n",
       "      <td>-1.528553</td>\n",
       "      <td>-1.528553</td>\n",
       "      <td>0.738939</td>\n",
       "      <td>-0.593439</td>\n",
       "      <td>-0.705764</td>\n",
       "      <td>208.25</td>\n",
       "    </tr>\n",
       "  </tbody>\n",
       "</table>\n",
       "</div>"
      ],
      "text/plain": [
       "        gender   Partner  Dependents  PhoneService  MultipleLines  \\\n",
       "473  -0.021140 -0.356590     0.23985      0.013731      -0.063972   \n",
       "8632  0.021724  0.290063     0.23985      0.013731      -0.063972   \n",
       "4193 -0.021140  0.290063     0.23985      0.013731      -0.063972   \n",
       "\n",
       "      InternetService  OnlineSecurity  OnlineBackup  DeviceProtection  \\\n",
       "473         -0.401065       -0.703043      0.637831          0.574370   \n",
       "8632         0.683696        0.682217      0.637831         -0.210898   \n",
       "4193        -1.528553       -1.528553     -1.528553         -1.528553   \n",
       "\n",
       "      TechSupport  StreamingTV  StreamingMovies  Contract  PaperlessBilling  \\\n",
       "473     -0.706695     0.354180         0.378975  0.738939         -0.593439   \n",
       "8632     0.690625     0.354180         0.378975  0.738939         -0.593439   \n",
       "4193    -1.528553    -1.528553        -1.528553  0.738939         -0.593439   \n",
       "\n",
       "      PaymentMethod  TotalCharges  \n",
       "473       -0.420685       1315.35  \n",
       "8632       0.804534        434.10  \n",
       "4193      -0.705764        208.25  "
      ]
     },
     "execution_count": 444,
     "metadata": {},
     "output_type": "execute_result"
    }
   ],
   "source": [
    "X_train_woe.head(3)"
   ]
  },
  {
   "cell_type": "code",
   "execution_count": 441,
   "metadata": {},
   "outputs": [
    {
     "data": {
      "text/plain": [
       "((7861, 16), (3369, 16))"
      ]
     },
     "execution_count": 441,
     "metadata": {},
     "output_type": "execute_result"
    }
   ],
   "source": [
    "X_train_scale = X_train_woe.copy()\n",
    "X_test_scale = X_test_woe.copy()\n",
    "\n",
    "scaler = MinMaxScaler()\n",
    "\n",
    "# scale totalCharges only\n",
    "X_train_scale['TotalCharges'] = scaler.fit_transform(X_train_scale['TotalCharges'].values.reshape(-1, 1))\n",
    "X_test_scale['TotalCharges'] = scaler.transform(X_test_scale['TotalCharges'].values.reshape(-1, 1))\n",
    "\n",
    "X_train_scale.shape, X_test_scale.shape"
   ]
  },
  {
   "cell_type": "code",
   "execution_count": 445,
   "metadata": {},
   "outputs": [
    {
     "data": {
      "text/html": [
       "<div>\n",
       "<style scoped>\n",
       "    .dataframe tbody tr th:only-of-type {\n",
       "        vertical-align: middle;\n",
       "    }\n",
       "\n",
       "    .dataframe tbody tr th {\n",
       "        vertical-align: top;\n",
       "    }\n",
       "\n",
       "    .dataframe thead th {\n",
       "        text-align: right;\n",
       "    }\n",
       "</style>\n",
       "<table border=\"1\" class=\"dataframe\">\n",
       "  <thead>\n",
       "    <tr style=\"text-align: right;\">\n",
       "      <th></th>\n",
       "      <th>gender</th>\n",
       "      <th>Partner</th>\n",
       "      <th>Dependents</th>\n",
       "      <th>PhoneService</th>\n",
       "      <th>MultipleLines</th>\n",
       "      <th>InternetService</th>\n",
       "      <th>OnlineSecurity</th>\n",
       "      <th>OnlineBackup</th>\n",
       "      <th>DeviceProtection</th>\n",
       "      <th>TechSupport</th>\n",
       "      <th>StreamingTV</th>\n",
       "      <th>StreamingMovies</th>\n",
       "      <th>Contract</th>\n",
       "      <th>PaperlessBilling</th>\n",
       "      <th>PaymentMethod</th>\n",
       "      <th>TotalCharges</th>\n",
       "    </tr>\n",
       "  </thead>\n",
       "  <tbody>\n",
       "    <tr>\n",
       "      <th>473</th>\n",
       "      <td>-0.021140</td>\n",
       "      <td>-0.356590</td>\n",
       "      <td>0.23985</td>\n",
       "      <td>0.013731</td>\n",
       "      <td>-0.063972</td>\n",
       "      <td>-0.401065</td>\n",
       "      <td>-0.703043</td>\n",
       "      <td>0.637831</td>\n",
       "      <td>0.574370</td>\n",
       "      <td>-0.706695</td>\n",
       "      <td>0.354180</td>\n",
       "      <td>0.378975</td>\n",
       "      <td>0.738939</td>\n",
       "      <td>-0.593439</td>\n",
       "      <td>-0.420685</td>\n",
       "      <td>0.151670</td>\n",
       "    </tr>\n",
       "    <tr>\n",
       "      <th>8632</th>\n",
       "      <td>0.021724</td>\n",
       "      <td>0.290063</td>\n",
       "      <td>0.23985</td>\n",
       "      <td>0.013731</td>\n",
       "      <td>-0.063972</td>\n",
       "      <td>0.683696</td>\n",
       "      <td>0.682217</td>\n",
       "      <td>0.637831</td>\n",
       "      <td>-0.210898</td>\n",
       "      <td>0.690625</td>\n",
       "      <td>0.354180</td>\n",
       "      <td>0.378975</td>\n",
       "      <td>0.738939</td>\n",
       "      <td>-0.593439</td>\n",
       "      <td>0.804534</td>\n",
       "      <td>0.050055</td>\n",
       "    </tr>\n",
       "    <tr>\n",
       "      <th>4193</th>\n",
       "      <td>-0.021140</td>\n",
       "      <td>0.290063</td>\n",
       "      <td>0.23985</td>\n",
       "      <td>0.013731</td>\n",
       "      <td>-0.063972</td>\n",
       "      <td>-1.528553</td>\n",
       "      <td>-1.528553</td>\n",
       "      <td>-1.528553</td>\n",
       "      <td>-1.528553</td>\n",
       "      <td>-1.528553</td>\n",
       "      <td>-1.528553</td>\n",
       "      <td>-1.528553</td>\n",
       "      <td>0.738939</td>\n",
       "      <td>-0.593439</td>\n",
       "      <td>-0.705764</td>\n",
       "      <td>0.024013</td>\n",
       "    </tr>\n",
       "  </tbody>\n",
       "</table>\n",
       "</div>"
      ],
      "text/plain": [
       "        gender   Partner  Dependents  PhoneService  MultipleLines  \\\n",
       "473  -0.021140 -0.356590     0.23985      0.013731      -0.063972   \n",
       "8632  0.021724  0.290063     0.23985      0.013731      -0.063972   \n",
       "4193 -0.021140  0.290063     0.23985      0.013731      -0.063972   \n",
       "\n",
       "      InternetService  OnlineSecurity  OnlineBackup  DeviceProtection  \\\n",
       "473         -0.401065       -0.703043      0.637831          0.574370   \n",
       "8632         0.683696        0.682217      0.637831         -0.210898   \n",
       "4193        -1.528553       -1.528553     -1.528553         -1.528553   \n",
       "\n",
       "      TechSupport  StreamingTV  StreamingMovies  Contract  PaperlessBilling  \\\n",
       "473     -0.706695     0.354180         0.378975  0.738939         -0.593439   \n",
       "8632     0.690625     0.354180         0.378975  0.738939         -0.593439   \n",
       "4193    -1.528553    -1.528553        -1.528553  0.738939         -0.593439   \n",
       "\n",
       "      PaymentMethod  TotalCharges  \n",
       "473       -0.420685      0.151670  \n",
       "8632       0.804534      0.050055  \n",
       "4193      -0.705764      0.024013  "
      ]
     },
     "execution_count": 445,
     "metadata": {},
     "output_type": "execute_result"
    }
   ],
   "source": [
    "X_train_scale.head(3)"
   ]
  },
  {
   "cell_type": "code",
   "execution_count": 446,
   "metadata": {},
   "outputs": [],
   "source": [
    "# submit our clean dataset\n",
    "clean_df_chn_train = X_train_scale.copy()\n",
    "clean_df_chn_train.to_csv('clean_dataset/clean_chn_train.csv', index=False)"
   ]
  },
  {
   "cell_type": "code",
   "execution_count": null,
   "metadata": {},
   "outputs": [],
   "source": []
  }
 ],
 "metadata": {
  "kernelspec": {
   "display_name": "vsc",
   "language": "python",
   "name": "python3"
  },
  "language_info": {
   "codemirror_mode": {
    "name": "ipython",
    "version": 3
   },
   "file_extension": ".py",
   "mimetype": "text/x-python",
   "name": "python",
   "nbconvert_exporter": "python",
   "pygments_lexer": "ipython3",
   "version": "3.11.9"
  }
 },
 "nbformat": 4,
 "nbformat_minor": 2
}
